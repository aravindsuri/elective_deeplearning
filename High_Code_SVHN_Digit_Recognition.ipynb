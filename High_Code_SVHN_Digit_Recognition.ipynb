{
  "cells": [
    {
      "cell_type": "markdown",
      "metadata": {
        "id": "Q91KqmCRu64D"
      },
      "source": [
        "# **Deep Learning Project: Street View Housing Number Digit Recognition**\n",
        "\n",
        "# **Marks: 60**\n",
        "\n",
        "--------------\n",
        "## **Context**\n",
        "--------------\n",
        "\n",
        "One of the most interesting tasks in deep learning is to recognize objects in natural scenes. The ability to process visual information using machine learning algorithms can be very useful as demonstrated in various applications.\n",
        "\n",
        "The SVHN dataset contains over 600,000 labeled digits cropped from street-level photos. It is one of the most popular image recognition datasets. It has been used in neural networks created by Google to improve the map quality by automatically transcribing the address numbers from a patch of pixels. The transcribed number with a known street address helps pinpoint the location of the building it represents.\n",
        "\n",
        "----------------\n",
        "## **Objective**\n",
        "----------------\n",
        "\n",
        "Our objective is to predict the number depicted inside the image by using Artificial or Fully Connected Feed Forward Neural Networks and Convolutional Neural Networks. We will go through various models of each and finally select the one that is giving us the best performance.\n",
        "\n",
        "-------------\n",
        "## **Dataset**\n",
        "-------------\n",
        "Here, we will use a subset of the original data to save some computation time. The dataset is provided as a .h5 file. The basic preprocessing steps have been applied on the dataset."
      ]
    },
    {
      "cell_type": "markdown",
      "metadata": {
        "id": "8z2Z7-OAs8QG"
      },
      "source": [
        "## **Mount the drive**\n",
        "\n",
        "Let us start by mounting the Google drive. You can run the below cell to mount the Google drive."
      ]
    },
    {
      "cell_type": "code",
      "source": [
        "# Mounting Google Colab drive\n",
        "\n",
        "from google.colab import drive\n",
        "drive.mount('/content/drive')"
      ],
      "metadata": {
        "id": "H8vjsf8EmwzB",
        "colab": {
          "base_uri": "https://localhost:8080/"
        },
        "outputId": "989c9ceb-90c0-40c7-a4c4-6613c320103f"
      },
      "execution_count": 1,
      "outputs": [
        {
          "output_type": "stream",
          "name": "stdout",
          "text": [
            "Mounted at /content/drive\n"
          ]
        }
      ]
    },
    {
      "cell_type": "markdown",
      "metadata": {
        "id": "C8U3DUa3eNsT"
      },
      "source": [
        "## **Importing the necessary libraries**"
      ]
    },
    {
      "cell_type": "code",
      "execution_count": 2,
      "metadata": {
        "id": "-dVzeuF3eQx1"
      },
      "outputs": [],
      "source": [
        "import random\n",
        "\n",
        "import numpy as np\n",
        "\n",
        "import pandas as pd\n",
        "\n",
        "import matplotlib.pyplot as plt\n",
        "\n",
        "import seaborn as sns\n",
        "\n",
        "from sklearn.model_selection import train_test_split\n",
        "\n",
        "from sklearn.preprocessing import MinMaxScaler\n",
        "\n",
        "from sklearn.metrics import classification_report\n",
        "\n",
        "from sklearn.metrics import confusion_matrix\n",
        "\n",
        "import tensorflow as tf\n",
        "\n",
        "from keras.models import Sequential\n",
        "\n",
        "from keras.layers import Dense, Dropout, Activation, BatchNormalization\n",
        "\n",
        "from keras.losses import categorical_crossentropy\n",
        "\n",
        "from keras.optimizers import Adam\n",
        "\n",
        "from keras.utils import to_categorical\n",
        "\n",
        "from keras import backend\n",
        "\n",
        "backend.clear_session()"
      ]
    },
    {
      "cell_type": "markdown",
      "metadata": {
        "id": "ucnevGLoyKf_"
      },
      "source": [
        "**Let us check the version of tensorflow.**"
      ]
    },
    {
      "cell_type": "code",
      "execution_count": 3,
      "metadata": {
        "id": "W5as47YxyJVk",
        "colab": {
          "base_uri": "https://localhost:8080/"
        },
        "outputId": "07710bc9-0afc-4c7f-8e5e-80ff9f3e392a"
      },
      "outputs": [
        {
          "output_type": "stream",
          "name": "stdout",
          "text": [
            "2.12.0\n"
          ]
        }
      ],
      "source": [
        "print(tf.__version__)"
      ]
    },
    {
      "cell_type": "markdown",
      "metadata": {
        "id": "8lsux2ZwyTTR"
      },
      "source": [
        "## **Load the dataset**\n",
        "\n",
        "- Let us now load the dataset that is available as a .h5 file.\n",
        "- Split the data into the train and the test dataset."
      ]
    },
    {
      "cell_type": "code",
      "execution_count": 4,
      "metadata": {
        "id": "BApX9qgNsqV0",
        "scrolled": true,
        "colab": {
          "base_uri": "https://localhost:8080/"
        },
        "outputId": "2d8a90ed-7f6c-4819-b102-0acd5b7eeef4"
      },
      "outputs": [
        {
          "output_type": "stream",
          "name": "stdout",
          "text": [
            "['X_test', 'X_train', 'X_val', 'y_test', 'y_train', 'y_val']\n"
          ]
        }
      ],
      "source": [
        "import h5py #This python library is used for opening HDF5 files\n",
        "file_path = '/content/drive/MyDrive/MIT/elective/data/SVHN_single_grey1.h5'\n",
        "\n",
        "with h5py.File(file_path, 'r') as f:\n",
        "    # The  funtion list(f.keys()) provides the list of keys at the root level in the file.\n",
        "    # We can now take a look at how the dataset is organized.\n",
        "    # In the file the key are equivalent to pandas columns.\n",
        "    print(list(f.keys()))\n",
        "    X_train = f['X_train'][:]\n",
        "    y_train = f['y_train'][:]\n",
        "    X_test = f['X_test'][:]\n",
        "    y_test = f['y_test'][:]"
      ]
    },
    {
      "cell_type": "markdown",
      "metadata": {
        "id": "hVe0CYpUgj7w"
      },
      "source": [
        "Check the number of images in the training and the testing dataset."
      ]
    },
    {
      "cell_type": "code",
      "execution_count": 5,
      "metadata": {
        "id": "y3lwKpOefkpA",
        "colab": {
          "base_uri": "https://localhost:8080/"
        },
        "outputId": "58ea73f4-b2cc-45e7-e01a-ea3f802c61fa"
      },
      "outputs": [
        {
          "output_type": "execute_result",
          "data": {
            "text/plain": [
              "(42000, 18000)"
            ]
          },
          "metadata": {},
          "execution_count": 5
        }
      ],
      "source": [
        "len(X_train), len(X_test)\n"
      ]
    },
    {
      "cell_type": "code",
      "source": [
        "# If we look inside the training set X_train, we can see what is inside the dataset.\n",
        "print(X_train[0])\n",
        "# We can also determine the length of each image in the training set of X_train\n",
        "print(len(X_train[0]))"
      ],
      "metadata": {
        "colab": {
          "base_uri": "https://localhost:8080/"
        },
        "id": "TUMMgFjkzfQR",
        "outputId": "268678d4-868f-4b0a-cee4-693795cdd95f"
      },
      "execution_count": 6,
      "outputs": [
        {
          "output_type": "stream",
          "name": "stdout",
          "text": [
            "[[ 33.0704  30.2601  26.852  ...  71.4471  58.2204  42.9939]\n",
            " [ 25.2283  25.5533  29.9765 ... 113.0209 103.3639  84.2949]\n",
            " [ 26.2775  22.6137  40.4763 ... 113.3028 121.775  115.4228]\n",
            " ...\n",
            " [ 28.5502  36.212   45.0801 ...  24.1359  25.0927  26.0603]\n",
            " [ 38.4352  26.4733  23.2717 ...  28.1094  29.4683  30.0661]\n",
            " [ 50.2984  26.0773  24.0389 ...  49.6682  50.853   53.0377]]\n",
            "32\n"
          ]
        }
      ]
    },
    {
      "cell_type": "markdown",
      "metadata": {
        "id": "akTUOfLlgwoM"
      },
      "source": [
        "**Observation:**\n",
        "The dataset contains 42,000 images in the Training set and 18,000 images in the Testing set. Each image is a 32x32 matrix of numbers, consisting of the values of the individual pixels."
      ]
    },
    {
      "cell_type": "markdown",
      "metadata": {
        "id": "kxODV6HKykuc"
      },
      "source": [
        "## **Visualizing images**\n",
        "\n",
        "- Use X_train to visualize the first 10 images.\n",
        "- Use Y_train to print the first 10 labels."
      ]
    },
    {
      "cell_type": "code",
      "execution_count": 7,
      "metadata": {
        "id": "Bvsc8ytHsqWD",
        "colab": {
          "base_uri": "https://localhost:8080/",
          "height": 120
        },
        "outputId": "1453e670-c89a-41b0-d7ee-9b94e0ddd459"
      },
      "outputs": [
        {
          "output_type": "display_data",
          "data": {
            "text/plain": [
              "<Figure size 1000x100 with 10 Axes>"
            ],
            "image/png": "[encoded data removed]"
          },
          "metadata": {}
        }
      ],
      "source": [
        "# The images are in matrix format, hence we can use the \"figure\" function from Matplotlib to plot them.\n",
        "# This function plots the individual pixes within each matrix for the visualization of the images.\n",
        "plt.figure(figsize = (10, 1))\n",
        "\n",
        "# Let's plot the first 10 matrices (images) in the dataset.\n",
        "for i in range(10):\n",
        "\n",
        "    # For the subplot we have 1 row with 10 columns and we iterate for each of the 10 images.\n",
        "    plt.subplot(1, 10, i+1)\n",
        "\n",
        "    # As we iterate, We insert each image onto the canvas and display it and we use the color map \"gray'.\n",
        "    # Note: The colors are not the actual colors within the image, they only represent the differences of the numbers within the matrix.\n",
        "    plt.imshow(X_train[i], cmap='gray')\n",
        "\n",
        "    # To display the image better, we can turn the axis off.\n",
        "    plt.axis('off')\n",
        "\n",
        "    # The Y_train dataset contains the labels corresponding to each image in the X_train dataset.\n",
        "    # We can display these labels for each image.\n",
        "    plt.text(10, 40, f'Num: {y_train[i]}', ha='center', va='bottom', color='blue', fontsize=8)\n",
        "# Plots the result of the for loop.\n",
        "plt.show()"
      ]
    },
    {
      "cell_type": "markdown",
      "metadata": {
        "id": "kzoyeXHOy80N"
      },
      "source": [
        "## **Data preparation**\n",
        "\n",
        "- Print the shape and the array of pixels for the first image in the training dataset.\n",
        "- Normalize the train and the test dataset by dividing by 255.\n",
        "- Print the new shapes of the train and the test dataset.\n",
        "- One-hot encode the target variable."
      ]
    },
    {
      "cell_type": "markdown",
      "source": [
        "Print the shapes of Training and Test data"
      ],
      "metadata": {
        "id": "f65rUV61Jftz"
      }
    },
    {
      "cell_type": "code",
      "execution_count": 8,
      "metadata": {
        "id": "NqndzQXng9rL",
        "colab": {
          "base_uri": "https://localhost:8080/"
        },
        "outputId": "fd4b9ae0-9c60-4784-d816-8c70841b0e33"
      },
      "outputs": [
        {
          "output_type": "stream",
          "name": "stdout",
          "text": [
            "Shape: (32, 32)\n"
          ]
        }
      ],
      "source": [
        "# This prints the first dataset which is 32 pixels by 32 pixels, that is a matrix of 1024 pixels.\n",
        "# For color images i.e. that are in rgb, we have additionally channels, and each channel consists of a 32x32 matrix of pixels.\n",
        "# For the current black and white images, we have a grayscale ranging from 0 to 255, 0 being black and 255 being white.\n",
        "print(\"Shape:\", X_train[0].shape)"
      ]
    },
    {
      "cell_type": "code",
      "source": [
        "# Let's review the matrix of the first image in the training dataset.\n",
        "print(\"First image:\\n\", X_train[0])"
      ],
      "metadata": {
        "colab": {
          "base_uri": "https://localhost:8080/"
        },
        "id": "agOP-g5HHOEN",
        "outputId": "a61e494b-2887-43c5-ce7b-034f46d84499"
      },
      "execution_count": 9,
      "outputs": [
        {
          "output_type": "stream",
          "name": "stdout",
          "text": [
            "First image:\n",
            " [[ 33.0704  30.2601  26.852  ...  71.4471  58.2204  42.9939]\n",
            " [ 25.2283  25.5533  29.9765 ... 113.0209 103.3639  84.2949]\n",
            " [ 26.2775  22.6137  40.4763 ... 113.3028 121.775  115.4228]\n",
            " ...\n",
            " [ 28.5502  36.212   45.0801 ...  24.1359  25.0927  26.0603]\n",
            " [ 38.4352  26.4733  23.2717 ...  28.1094  29.4683  30.0661]\n",
            " [ 50.2984  26.0773  24.0389 ...  49.6682  50.853   53.0377]]\n"
          ]
        }
      ]
    },
    {
      "cell_type": "code",
      "source": [
        "# We will flatten the 32x32 matrix dataset by using the reshape function fom numpy.\n",
        "# We will create a  one dimensional array while preserving the data.\n",
        "X_train = X_train.reshape(X_train.shape[0], 1024)\n",
        "\n",
        "X_test = X_test.reshape(X_test.shape[0], 1024)"
      ],
      "metadata": {
        "id": "xA7j_57XHcIw"
      },
      "execution_count": 10,
      "outputs": []
    },
    {
      "cell_type": "code",
      "source": [
        "# Let's now print the shape of the Training and Test data sets after the reshape.\n",
        "print(\"Shape of Training dataset:\", X_train.shape, y_train.shape)\n",
        "print(\"Shape of Test dataset:\", X_test.shape, y_test.shape)"
      ],
      "metadata": {
        "colab": {
          "base_uri": "https://localhost:8080/"
        },
        "id": "HlGDxj8dH8zj",
        "outputId": "f7cbc14b-b26b-4330-af2d-b501a29398d3"
      },
      "execution_count": 11,
      "outputs": [
        {
          "output_type": "stream",
          "name": "stdout",
          "text": [
            "Shape of Training dataset: (42000, 1024) (42000,)\n",
            "Shape of Test dataset: (18000, 1024) (18000,)\n"
          ]
        }
      ]
    },
    {
      "cell_type": "markdown",
      "source": [
        "**Observation:** We can now see that the training dataset still has 42,000 images and the test dataset has 18,000 images. However each image is now a 1-dimensional matrix of 1024 numbers."
      ],
      "metadata": {
        "id": "1MHpeF3wIVGO"
      }
    },
    {
      "cell_type": "markdown",
      "metadata": {
        "id": "f4CQkKtQ0XII"
      },
      "source": [
        "### **Normalize the train and the test data**"
      ]
    },
    {
      "cell_type": "code",
      "execution_count": 12,
      "metadata": {
        "id": "q_yUUTp_mUzB"
      },
      "outputs": [],
      "source": [
        "# We will now normalize the data, which basically fits all the data in a range from 0 to 1.\n",
        "# We will normalized by dividig each of the values by 255.\n",
        "\n",
        "# Normalize reshaped training dataset\n",
        "X_train_normalized = X_train / 255.0\n",
        "\n",
        "# Normalize reshaped testing dataset\n",
        "X_test_normalized = X_test / 255.0"
      ]
    },
    {
      "cell_type": "markdown",
      "metadata": {
        "id": "0uLxXBpz81vk"
      },
      "source": [
        "### **One-hot encode output**"
      ]
    },
    {
      "cell_type": "code",
      "execution_count": 13,
      "metadata": {
        "id": "zL0lYER4sqWw"
      },
      "outputs": [],
      "source": [
        "# We now convert the integer class labels in the y_train dataset to a binary class matrix\n",
        "# Each label is then represented as a vector of 0s and 1s.\n",
        "# The to_categorical function from the tensorflow.keras.utils module converts the numerical values to one-hot encoded vectors.\n",
        "\n",
        "y_train = to_categorical(y_train)\n",
        "\n",
        "y_test = to_categorical(y_test)"
      ]
    },
    {
      "cell_type": "code",
      "source": [
        "# Print the labels from the test dataset that are now in one-hot encoded format.\n",
        "\n",
        "print(y_test)"
      ],
      "metadata": {
        "colab": {
          "base_uri": "https://localhost:8080/"
        },
        "id": "-gLuMf1ELuGA",
        "outputId": "9bfd9e11-36af-47ff-857f-251015bdfc82"
      },
      "execution_count": 14,
      "outputs": [
        {
          "output_type": "stream",
          "name": "stdout",
          "text": [
            "[[0. 1. 0. ... 0. 0. 0.]\n",
            " [0. 0. 0. ... 1. 0. 0.]\n",
            " [0. 0. 1. ... 0. 0. 0.]\n",
            " ...\n",
            " [0. 0. 0. ... 1. 0. 0.]\n",
            " [0. 0. 0. ... 0. 0. 1.]\n",
            " [0. 0. 1. ... 0. 0. 0.]]\n"
          ]
        }
      ]
    },
    {
      "cell_type": "markdown",
      "metadata": {
        "id": "ViqPOTquCF76"
      },
      "source": [
        "**Observation:** We can see here that the first label from the test dataset\n",
        "[0,1,0,0,0,0,0,0,0,0] which has been \"one-hot encoded\" represents the number 2."
      ]
    },
    {
      "cell_type": "markdown",
      "metadata": {
        "id": "yH-gVrzuByNA"
      },
      "source": [
        "## **Model Building**\n",
        "\n",
        "Now that we have done the data preprocessing, let's build an ANN model.\n",
        "\n",
        "### Fix the seed for random number generators"
      ]
    },
    {
      "cell_type": "code",
      "execution_count": 19,
      "metadata": {
        "id": "BcKRwrGn0XIL"
      },
      "outputs": [],
      "source": [
        "# We need to now set up a seed for the random number generator and it should be the same for all random generators.\n",
        "# One sees that quite often the seed \"42\" is used, since it was considered the answer to the ultimate question in life\n",
        "# from Douglas Adam's Hitchiker's Guide to the Galaxy. It is just a choice of the geeks.\n",
        "# But one can use any seed.\n",
        "\n",
        "# Use the same seed for Numpy, Python function, and Tensorflow\n",
        "\n",
        "# In NumPy\n",
        "np.random.seed(42)\n",
        "\n",
        "# In the generic python funcion\n",
        "random.seed(42)\n",
        "\n",
        "# In TensorFlow\n",
        "tf.random.set_seed(42)\n",
        "\n",
        "def seed_setup():\n",
        "  np.random.seed(42)\n",
        "  random.seed(42)\n",
        "  tf.random.set_seed(42)"
      ]
    },
    {
      "cell_type": "markdown",
      "metadata": {
        "id": "UJDUoaEj1d6e"
      },
      "source": [
        "### **Model Architecture**\n",
        "- Write a function that returns a sequential model with the following architecture:\n",
        " - First hidden layer with **64 nodes and the relu activation** and the **input shape = (1024, )**\n",
        " - Second hidden layer with **32 nodes and the relu activation**\n",
        " - Output layer with **activation as 'softmax' and number of nodes equal to the number of classes, i.e., 10**\n",
        " - Compile the model with the **loss equal to categorical_crossentropy, optimizer equal to Adam(learning_rate = 0.001), and metric equal to 'accuracy'**. Do not fit the model here, just return the compiled model.\n",
        "- Call the nn_model_1 function and store the model in a new variable.\n",
        "- Print the summary of the model.\n",
        "- Fit on the train data with a **validation split of 0.2, batch size = 128, verbose = 1, and epochs = 20**. Store the model building history to use later for visualization."
      ]
    },
    {
      "cell_type": "markdown",
      "metadata": {
        "id": "A48z6ucF0XIP"
      },
      "source": [
        "### **Build and train an ANN model as per the above mentioned architecture.**"
      ]
    },
    {
      "cell_type": "code",
      "execution_count": 17,
      "metadata": {
        "id": "Cmi81Gr5sqW-",
        "colab": {
          "base_uri": "https://localhost:8080/"
        },
        "outputId": "21a8dcef-cf1f-4585-dffe-1d1bd6f9ae89"
      },
      "outputs": [
        {
          "output_type": "stream",
          "name": "stdout",
          "text": [
            "Model: \"sequential_1\"\n",
            "_________________________________________________________________\n",
            " Layer (type)                Output Shape              Param #   \n",
            "=================================================================\n",
            " dense_3 (Dense)             (None, 64)                65600     \n",
            "                                                                 \n",
            " dense_4 (Dense)             (None, 32)                2080      \n",
            "                                                                 \n",
            " dense_5 (Dense)             (None, 10)                330       \n",
            "                                                                 \n",
            "=================================================================\n",
            "Total params: 68,010\n",
            "Trainable params: 68,010\n",
            "Non-trainable params: 0\n",
            "_________________________________________________________________\n",
            "Epoch 1/20\n",
            "263/263 [==============================] - 2s 5ms/step - loss: 2.2915 - accuracy: 0.1121 - val_loss: 2.2416 - val_accuracy: 0.1281\n",
            "Epoch 2/20\n",
            "263/263 [==============================] - 1s 4ms/step - loss: 2.0751 - accuracy: 0.2208 - val_loss: 1.8394 - val_accuracy: 0.3493\n",
            "Epoch 3/20\n",
            "263/263 [==============================] - 1s 4ms/step - loss: 1.6932 - accuracy: 0.4089 - val_loss: 1.5578 - val_accuracy: 0.4708\n",
            "Epoch 4/20\n",
            "263/263 [==============================] - 1s 5ms/step - loss: 1.5108 - accuracy: 0.4965 - val_loss: 1.4573 - val_accuracy: 0.5186\n",
            "Epoch 5/20\n",
            "263/263 [==============================] - 2s 8ms/step - loss: 1.4019 - accuracy: 0.5507 - val_loss: 1.3466 - val_accuracy: 0.5637\n",
            "Epoch 6/20\n",
            "263/263 [==============================] - 2s 8ms/step - loss: 1.3231 - accuracy: 0.5836 - val_loss: 1.2740 - val_accuracy: 0.6086\n",
            "Epoch 7/20\n",
            "263/263 [==============================] - 1s 5ms/step - loss: 1.2727 - accuracy: 0.6037 - val_loss: 1.2671 - val_accuracy: 0.6004\n",
            "Epoch 8/20\n",
            "263/263 [==============================] - 1s 5ms/step - loss: 1.2428 - accuracy: 0.6148 - val_loss: 1.2129 - val_accuracy: 0.6298\n",
            "Epoch 9/20\n",
            "263/263 [==============================] - 1s 4ms/step - loss: 1.2204 - accuracy: 0.6210 - val_loss: 1.1941 - val_accuracy: 0.6323\n",
            "Epoch 10/20\n",
            "263/263 [==============================] - 1s 4ms/step - loss: 1.1970 - accuracy: 0.6275 - val_loss: 1.1801 - val_accuracy: 0.6374\n",
            "Epoch 11/20\n",
            "263/263 [==============================] - 1s 4ms/step - loss: 1.1734 - accuracy: 0.6382 - val_loss: 1.2311 - val_accuracy: 0.6100\n",
            "Epoch 12/20\n",
            "263/263 [==============================] - 1s 4ms/step - loss: 1.1621 - accuracy: 0.6415 - val_loss: 1.1596 - val_accuracy: 0.6433\n",
            "Epoch 13/20\n",
            "263/263 [==============================] - 1s 5ms/step - loss: 1.1379 - accuracy: 0.6498 - val_loss: 1.1464 - val_accuracy: 0.6474\n",
            "Epoch 14/20\n",
            "263/263 [==============================] - 1s 4ms/step - loss: 1.1221 - accuracy: 0.6538 - val_loss: 1.1528 - val_accuracy: 0.6423\n",
            "Epoch 15/20\n",
            "263/263 [==============================] - 1s 5ms/step - loss: 1.1032 - accuracy: 0.6613 - val_loss: 1.1251 - val_accuracy: 0.6525\n",
            "Epoch 16/20\n",
            "263/263 [==============================] - 2s 7ms/step - loss: 1.0882 - accuracy: 0.6674 - val_loss: 1.1291 - val_accuracy: 0.6476\n",
            "Epoch 17/20\n",
            "263/263 [==============================] - 2s 7ms/step - loss: 1.0698 - accuracy: 0.6734 - val_loss: 1.0808 - val_accuracy: 0.6746\n",
            "Epoch 18/20\n",
            "263/263 [==============================] - 2s 6ms/step - loss: 1.0607 - accuracy: 0.6768 - val_loss: 1.0724 - val_accuracy: 0.6751\n",
            "Epoch 19/20\n",
            "263/263 [==============================] - 1s 4ms/step - loss: 1.0427 - accuracy: 0.6836 - val_loss: 1.0609 - val_accuracy: 0.6813\n",
            "Epoch 20/20\n",
            "263/263 [==============================] - 1s 4ms/step - loss: 1.0381 - accuracy: 0.6851 - val_loss: 1.0732 - val_accuracy: 0.6752\n"
          ]
        }
      ],
      "source": [
        "input_shape = 1024 # the 32x32 images\n",
        "num_classes = 10 # the different categories of images that we have in the dataset (0,1,2,3,4,5,6,7,8,9)\n",
        "\n",
        "def nn_model_1(input_shape, num_classes):\n",
        "    # This creates a Sequential Model. This is a simple model where we have one tensor as input and one tensor as output\n",
        "    model = Sequential()\n",
        "\n",
        "    # We create a first hidden layer with 64 nodes and ReLU activation as per model architecture\n",
        "    model.add(Dense(64, activation='relu', input_shape=(input_shape,)))\n",
        "\n",
        "    # We the create a second hidden layer with 32 nodes and ReLU activation as per the model architecture.\n",
        "    model.add(Dense(32, activation='relu'))\n",
        "\n",
        "    # The final output layer we use with 'softmax' activation and the number of nodes is equal to the total number of classes\n",
        "    model.add(Dense(num_classes, activation='softmax'))\n",
        "\n",
        "    # We will compile the model using categorical crossentropy whch is a commonly used loss function for multi-class classification problems\n",
        "    # where each sample belongs to exactly one class out of two or more classes, like in our case.\n",
        "    # We will also use the Adam optimizer with a learning rate of 0.001 and metrics = 'accuracy' as per the model architecture\n",
        "    model.compile(loss='categorical_crossentropy',\n",
        "                  optimizer=Adam(learning_rate=0.001),\n",
        "                  metrics=['accuracy'])\n",
        "\n",
        "    return model\n",
        "\n",
        "# Let's go ahead and create the model\n",
        "model = nn_model_1(input_shape, num_classes)\n",
        "\n",
        "# We will print a summary of the model\n",
        "model.summary()\n",
        "\n",
        "# Let's fit the model on the train data with a validation split of 0.2\n",
        "# batch size = 128, verbose = 1, and epochs = 20 as per the instructions\n",
        "history = model.fit(X_train_normalized, y_train,\n",
        "                    validation_split=0.2,\n",
        "                    batch_size=128,\n",
        "                    verbose=1,\n",
        "                    epochs=20)"
      ]
    },
    {
      "cell_type": "markdown",
      "metadata": {
        "id": "MeF8XSWz0XIU"
      },
      "source": [
        "### **Plot the Training and Validation Accuracies and write down your Observations.**"
      ]
    },
    {
      "cell_type": "code",
      "execution_count": 18,
      "metadata": {
        "id": "lt77zgGMP4yw",
        "colab": {
          "base_uri": "https://localhost:8080/",
          "height": 696
        },
        "outputId": "5bcf1c11-f50c-4094-8537-f69c0edb1884"
      },
      "outputs": [
        {
          "output_type": "display_data",
          "data": {
            "text/plain": [
              "<Figure size 800x800 with 1 Axes>"
            ],
            "image/png": "[encoded data removed]"
          },
          "metadata": {}
        }
      ],
      "source": [
        "# Let's now plot the training and validation accuracies.\n",
        "\n",
        "# Here we extract the training history from the Keras model and store it in a dictionary.\n",
        "# Since dictionaries in python are pairs of key-values.\n",
        "dict_hist = history.history\n",
        "\n",
        "# This creates a list of all the epochs\n",
        "list_ep = [i for i in range(1, 21)]\n",
        "\n",
        "# We can now creates an area to plot the graph using MatPlotLib\n",
        "plt.figure(figsize = (8, 8))\n",
        "\n",
        "# Let's now plot the Accuracy in Blue\n",
        "plt.plot(list_ep, dict_hist['accuracy'], ls = '--', label = 'Accuracy')\n",
        "\n",
        "# We will now plot the second line 'Validation Accuracy' in Yellow\n",
        "plt.plot(list_ep, dict_hist['val_accuracy'], ls = '--', label = 'Validation Accuracy')\n",
        "\n",
        "# We will set the label for the Y-axis as 'Accuracy'\n",
        "plt.ylabel('Accuracy')\n",
        "\n",
        "# We will set the label for the X-axis as 'Epochs'\n",
        "plt.xlabel('Epochs')\n",
        "\n",
        "# Let's also set the legend for the graph\n",
        "plt.legend()\n",
        "\n",
        "# Finally let's now plot the actual graph\n",
        "plt.show()"
      ]
    },
    {
      "cell_type": "markdown",
      "metadata": {
        "id": "pGBbQpLONX7k"
      },
      "source": [
        "**Observations:**\n",
        "\n",
        "**1. Initial Training: Epochs 1-4:**\n",
        "\n",
        "Smooth Increase with no Overfitting: Both the training accuracy and validation accuracy increase smoothly suggesting that in the first epochs, the model is learning quite well from the training data. The slight gap between the training accuracy and the validation accuracy suggests that the model is not overfitting the training data, since the validation accuracy is slightly different from the training accuracy.\n",
        "\n",
        "**2. Plateauing: Epochs 5-14:**\n",
        "\n",
        "The turning and plateauing of the validation accuracy and the training accuracy from around Epoch 6 suggests that the model is encountering some difficulty in learning after a certain point. The fact that the validation accuracy is higher than the training accuracy after Epoch 6 is a positive and it suggests that the model is able to potentially generalize well to data that it has not seen before.\n",
        "\n",
        "The accuracy of between 0.5 and 0.65 indicates that the model is performing at not with such a great confidence, and is struggling to recognize patterns from the data. This could be due to minimal training data, or suboptimal hyperparameters, or insufficient model complexity, .\n",
        "\n",
        "**3. Convergence and Fragmentation: Epochs 15-20:**\n",
        "\n",
        "The fragmentation in the validation accuracy line from Epoch 15 indicates perhaps that the model is starting to overfit the training data. It could also be due to noise within the training dataset.\n",
        "\n",
        "The intersection of the validation accuracy and the training accuracy followed by convergence could indicate that the model is now fitting the training data too closely and this can lead to overfitting.\n",
        "\n",
        "**4. Potential Improvements:**\n",
        "\n",
        "Early Stopping: When the model starts to overfit, it may be beneficial to stop the training early in order to prevent overfitting. Since the model only has accuracy of around 0.60, which does not provide high predictability, stopping the training early will not improve accuracy.\n",
        "\n",
        "Model Complexity: Modifying or adjusting the complexity of the model might also help improve the predictability. If the model is too simple, it might not be able to recognize the patterns in the data. On the other hand, danger with a complex model is that it might lead to overfitting. This is a balance and requires testing to identify which is the best approach.\n",
        "\n",
        "Data Quality: The quality of the data is important and it is important to make sure that the training and validation datasets represent the actual dataset and are free from noise.\n",
        "\n",
        "Hyperparameter Tuning: It is also important to test with different hyperparameter settings, for example, the learning rate, etc to determine the optimal values that make the model prediction better.\n",
        "\n",
        "In summary, although at the beginning the training looked quite good, the plateauing and convergence with a drop in validation accuracy indicates that further refinemenets are require to prevent overfitting and improve the predictability. Since the model predictability is quite low, I would suggest to consider testing and fine-tuning the model. However, with such a low accuracy and overfitting happening so quickly, I would consider to replace this model and focus on a different approach. I would reject this model and look at another model that can improve the accuracy level.\n",
        "\n",
        "We will look at using a model with higher complexity and see if that improves the performance of the model.\n",
        "\n",
        "Before we do that, we also need to clear the previous model's history from the Keras backend. We also need to fix the seed after clearing the Keras backend."
      ]
    },
    {
      "cell_type": "markdown",
      "metadata": {
        "id": "z0qgLMBZm5-K"
      },
      "source": [
        "Let's build one more model with higher complexity and see if we can improve the performance of the model.\n",
        "\n",
        "First, we need to clear the previous model's history from the Keras backend. Also, let's fix the seed again after clearing the backend."
      ]
    },
    {
      "cell_type": "code",
      "source": [
        "# Let's clear the Keras backend\n",
        "backend.clear_session()\n",
        "\n",
        "# Let's also reset the seed\n",
        "seed_setup()\n"
      ],
      "metadata": {
        "id": "cg_777Ac4ouT"
      },
      "execution_count": 20,
      "outputs": []
    },
    {
      "cell_type": "markdown",
      "metadata": {
        "id": "lT6o3TIKuCtk"
      },
      "source": [
        "### **Second Model Architecture**\n",
        "- Write a function that returns a sequential model with the following architecture:\n",
        " - First hidden layer with **256 nodes and the relu activation** and the **input shape = (1024, )**\n",
        " - Second hidden layer with **128 nodes and the relu activation**\n",
        " - Add the **Dropout layer with the rate equal to 0.2**\n",
        " - Third hidden layer with **64 nodes and the relu activation**\n",
        " - Fourth hidden layer with **64 nodes and the relu activation**\n",
        " - Fifth hidden layer with **32 nodes and the relu activation**\n",
        " - Add the **BatchNormalization layer**\n",
        " - Output layer with **activation as 'softmax' and number of nodes equal to the number of classes, i.e., 10**\n",
        " -Compile the model with the **loss equal to categorical_crossentropy, optimizer equal to Adam(learning_rate = 0.0005), and metric equal to 'accuracy'**. Do not fit the model here, just return the compiled model.\n",
        "- Call the nn_model_2 function and store the model in a new variable.\n",
        "- Print the summary of the model.\n",
        "- Fit on the train data with a **validation split of 0.2, batch size = 128, verbose = 1, and epochs = 30**. Store the model building history to use later for visualization."
      ]
    },
    {
      "cell_type": "markdown",
      "metadata": {
        "id": "f-ZjNBmH0XIV"
      },
      "source": [
        "### **Build and train the new ANN model as per the above mentioned architecture**"
      ]
    },
    {
      "cell_type": "code",
      "execution_count": 21,
      "metadata": {
        "id": "EEPYLFIPnSDP",
        "colab": {
          "base_uri": "https://localhost:8080/"
        },
        "outputId": "f246424a-b2f1-4244-c2c2-e7722e7e60ad"
      },
      "outputs": [
        {
          "output_type": "stream",
          "name": "stdout",
          "text": [
            "Model: \"sequential\"\n",
            "_________________________________________________________________\n",
            " Layer (type)                Output Shape              Param #   \n",
            "=================================================================\n",
            " dense (Dense)               (None, 256)               262400    \n",
            "                                                                 \n",
            " dense_1 (Dense)             (None, 128)               32896     \n",
            "                                                                 \n",
            " dropout (Dropout)           (None, 128)               0         \n",
            "                                                                 \n",
            " dense_2 (Dense)             (None, 64)                8256      \n",
            "                                                                 \n",
            " dense_3 (Dense)             (None, 64)                4160      \n",
            "                                                                 \n",
            " dense_4 (Dense)             (None, 32)                2080      \n",
            "                                                                 \n",
            " batch_normalization (BatchN  (None, 32)               128       \n",
            " ormalization)                                                   \n",
            "                                                                 \n",
            " dense_5 (Dense)             (None, 10)                330       \n",
            "                                                                 \n",
            "=================================================================\n",
            "Total params: 310,250\n",
            "Trainable params: 310,186\n",
            "Non-trainable params: 64\n",
            "_________________________________________________________________\n",
            "Epoch 1/30\n",
            "263/263 [==============================] - 5s 14ms/step - loss: 2.3265 - accuracy: 0.1014 - val_loss: 2.3046 - val_accuracy: 0.1007\n",
            "Epoch 2/30\n",
            "263/263 [==============================] - 4s 15ms/step - loss: 2.2252 - accuracy: 0.1473 - val_loss: 2.1349 - val_accuracy: 0.1952\n",
            "Epoch 3/30\n",
            "263/263 [==============================] - 3s 10ms/step - loss: 1.7732 - accuracy: 0.3632 - val_loss: 1.6661 - val_accuracy: 0.4623\n",
            "Epoch 4/30\n",
            "263/263 [==============================] - 3s 10ms/step - loss: 1.4262 - accuracy: 0.5169 - val_loss: 1.2803 - val_accuracy: 0.5848\n",
            "Epoch 5/30\n",
            "263/263 [==============================] - 3s 10ms/step - loss: 1.2593 - accuracy: 0.5840 - val_loss: 1.1318 - val_accuracy: 0.6371\n",
            "Epoch 6/30\n",
            "263/263 [==============================] - 3s 12ms/step - loss: 1.1647 - accuracy: 0.6206 - val_loss: 1.1559 - val_accuracy: 0.6236\n",
            "Epoch 7/30\n",
            "263/263 [==============================] - 4s 16ms/step - loss: 1.1022 - accuracy: 0.6430 - val_loss: 1.0387 - val_accuracy: 0.6737\n",
            "Epoch 8/30\n",
            "263/263 [==============================] - 3s 10ms/step - loss: 1.0592 - accuracy: 0.6595 - val_loss: 0.9999 - val_accuracy: 0.6807\n",
            "Epoch 9/30\n",
            "263/263 [==============================] - 3s 10ms/step - loss: 1.0319 - accuracy: 0.6710 - val_loss: 0.9623 - val_accuracy: 0.6969\n",
            "Epoch 10/30\n",
            "263/263 [==============================] - 3s 10ms/step - loss: 0.9798 - accuracy: 0.6885 - val_loss: 0.9955 - val_accuracy: 0.6873\n",
            "Epoch 11/30\n",
            "263/263 [==============================] - 3s 12ms/step - loss: 0.9610 - accuracy: 0.6949 - val_loss: 0.8896 - val_accuracy: 0.7257\n",
            "Epoch 12/30\n",
            "263/263 [==============================] - 4s 16ms/step - loss: 0.9340 - accuracy: 0.7046 - val_loss: 0.9666 - val_accuracy: 0.6933\n",
            "Epoch 13/30\n",
            "263/263 [==============================] - 3s 10ms/step - loss: 0.9133 - accuracy: 0.7100 - val_loss: 0.8661 - val_accuracy: 0.7290\n",
            "Epoch 14/30\n",
            "263/263 [==============================] - 3s 10ms/step - loss: 0.8912 - accuracy: 0.7160 - val_loss: 0.8392 - val_accuracy: 0.7387\n",
            "Epoch 15/30\n",
            "263/263 [==============================] - 3s 10ms/step - loss: 0.8854 - accuracy: 0.7208 - val_loss: 0.8581 - val_accuracy: 0.7326\n",
            "Epoch 16/30\n",
            "263/263 [==============================] - 3s 11ms/step - loss: 0.8546 - accuracy: 0.7315 - val_loss: 0.9006 - val_accuracy: 0.7121\n",
            "Epoch 17/30\n",
            "263/263 [==============================] - 4s 16ms/step - loss: 0.8451 - accuracy: 0.7314 - val_loss: 0.8292 - val_accuracy: 0.7380\n",
            "Epoch 18/30\n",
            "263/263 [==============================] - 3s 10ms/step - loss: 0.8245 - accuracy: 0.7399 - val_loss: 0.8221 - val_accuracy: 0.7399\n",
            "Epoch 19/30\n",
            "263/263 [==============================] - 3s 10ms/step - loss: 0.8205 - accuracy: 0.7404 - val_loss: 0.8062 - val_accuracy: 0.7470\n",
            "Epoch 20/30\n",
            "263/263 [==============================] - 3s 10ms/step - loss: 0.8052 - accuracy: 0.7464 - val_loss: 0.7593 - val_accuracy: 0.7664\n",
            "Epoch 21/30\n",
            "263/263 [==============================] - 3s 11ms/step - loss: 0.7944 - accuracy: 0.7475 - val_loss: 0.7751 - val_accuracy: 0.7589\n",
            "Epoch 22/30\n",
            "263/263 [==============================] - 4s 16ms/step - loss: 0.7855 - accuracy: 0.7498 - val_loss: 0.7708 - val_accuracy: 0.7531\n",
            "Epoch 23/30\n",
            "263/263 [==============================] - 3s 10ms/step - loss: 0.7783 - accuracy: 0.7527 - val_loss: 0.7938 - val_accuracy: 0.7510\n",
            "Epoch 24/30\n",
            "263/263 [==============================] - 3s 10ms/step - loss: 0.7559 - accuracy: 0.7628 - val_loss: 0.7277 - val_accuracy: 0.7773\n",
            "Epoch 25/30\n",
            "263/263 [==============================] - 3s 10ms/step - loss: 0.7489 - accuracy: 0.7610 - val_loss: 0.7504 - val_accuracy: 0.7650\n",
            "Epoch 26/30\n",
            "263/263 [==============================] - 3s 11ms/step - loss: 0.7448 - accuracy: 0.7628 - val_loss: 0.7589 - val_accuracy: 0.7665\n",
            "Epoch 27/30\n",
            "263/263 [==============================] - 4s 16ms/step - loss: 0.7440 - accuracy: 0.7635 - val_loss: 0.7946 - val_accuracy: 0.7525\n",
            "Epoch 28/30\n",
            "263/263 [==============================] - 3s 10ms/step - loss: 0.7326 - accuracy: 0.7680 - val_loss: 0.7967 - val_accuracy: 0.7496\n",
            "Epoch 29/30\n",
            "263/263 [==============================] - 3s 10ms/step - loss: 0.7273 - accuracy: 0.7686 - val_loss: 0.7298 - val_accuracy: 0.7808\n",
            "Epoch 30/30\n",
            "263/263 [==============================] - 3s 10ms/step - loss: 0.7138 - accuracy: 0.7760 - val_loss: 0.7422 - val_accuracy: 0.7689\n"
          ]
        }
      ],
      "source": [
        "input_shape = 1024 # the 32x32 images\n",
        "num_classes = 10 # the different categories of images that we have in the dataset (0, 1,2,3,4,5,6,7,8,9,0)\n",
        "\n",
        "def nn_model_2(input_shape, num_classes):\n",
        "    # This creates a Sequential Model\n",
        "    model = Sequential()\n",
        "\n",
        "    # We create a first hidden layer with 256 nodes and ReLU activation as per model architecture\n",
        "    model.add(Dense(256, activation='relu', input_shape=(input_shape,)))\n",
        "\n",
        "    # We then create a second hidden layer with 128 nodes and ReLU activation as per the model architecture\n",
        "    model.add(Dense(128, activation='relu'))\n",
        "\n",
        "    # We now add a dropout layer with a rate equual to 0.2\n",
        "    model.add(Dropout(0.2))\n",
        "\n",
        "    # We now create a third hidden layer with 64 nodes and ReLU activation as per the model architecture\n",
        "    model.add(Dense(64, activation='relu'))\n",
        "\n",
        "    # We now create a fourth hidden layer with 64 nodes and ReLU activation as per the model architecture\n",
        "    model.add(Dense(64, activation='relu'))\n",
        "\n",
        "    # We now create a fifth hidden layer with 32 nodes and ReLU activation as per the model architecture\n",
        "    model.add(Dense(32, activation='relu'))\n",
        "\n",
        "    # We now add a BatchNormalization layer as per the model architecture\n",
        "    model.add(BatchNormalization())\n",
        "\n",
        "    # Finally, we add an output layer with 'softmax' activation and number of nodes equal to the total number of classes\n",
        "    model.add(Dense(num_classes, activation='softmax'))\n",
        "\n",
        "\n",
        "    # We will compile the model using categorical crossentropy\n",
        "    # We will also use the Adam optimizer with a learning rate of 0.005 and metrics = 'accuracy' as per the model architecture\n",
        "    model.compile(loss='categorical_crossentropy',\n",
        "                  optimizer=Adam(learning_rate=0.0005),\n",
        "                  metrics=['accuracy'])\n",
        "\n",
        "    return model\n",
        "\n",
        "# Let's go ahead and create the model\n",
        "model_2 = nn_model_2(input_shape, num_classes)\n",
        "\n",
        "# Let's go ahead and print a summary of the model\n",
        "model_2.summary()\n",
        "\n",
        "# Let's fit the model on the train data with a validation split of 0.2\n",
        "# batch size = 128, verbose = 1, and epochs = 30 as per the instructions\n",
        "history = model_2.fit(X_train_normalized, y_train,\n",
        "                    validation_split=0.2,\n",
        "                    batch_size=128,\n",
        "                    verbose=1,\n",
        "                    epochs=30)"
      ]
    },
    {
      "cell_type": "markdown",
      "metadata": {
        "id": "ZJYsvjmw0XIX"
      },
      "source": [
        "### **Plot the Training and Validation Accuracies and write down your Observations.**"
      ]
    },
    {
      "cell_type": "code",
      "execution_count": 22,
      "metadata": {
        "id": "01ig6BrF1KVy",
        "colab": {
          "base_uri": "https://localhost:8080/",
          "height": 696
        },
        "outputId": "5f8da5b2-b938-4a27-f0b9-b31b96be0ea4"
      },
      "outputs": [
        {
          "output_type": "display_data",
          "data": {
            "text/plain": [
              "<Figure size 800x800 with 1 Axes>"
            ],
            "image/png": "[encoded data removed]"
          },
          "metadata": {}
        }
      ],
      "source": [
        "# Let's now plot the training and validation accuracies.\n",
        "\n",
        "# As we did before, we extract the training history from the Keras model and store it in a dictionary.\n",
        "dict_hist = history.history\n",
        "\n",
        "# Let's create a list of all the epochs to run through\n",
        "list_ep = [i for i in range(1, 31)]\n",
        "\n",
        "# We can now create an area to plot the graph using MatPlotLib\n",
        "plt.figure(figsize = (8, 8))\n",
        "\n",
        "# Let's now plot the Accuracy in Blue\n",
        "plt.plot(list_ep, dict_hist['accuracy'], ls = '--', label = 'Accuracy')\n",
        "\n",
        "# We will now plot the second line 'Validation Accuracy' in Yellow\n",
        "plt.plot(list_ep, dict_hist['val_accuracy'], ls = '--', label = 'Validation Accuracy')\n",
        "\n",
        "# We will set the label for the Y-axis as 'Accuracy'\n",
        "plt.ylabel('Accuracy')\n",
        "\n",
        "# We will set the label for the X-axis as 'Epochs'\n",
        "plt.xlabel('Epochs')\n",
        "\n",
        "# Let's also set a legend for the graph\n",
        "plt.legend()\n",
        "\n",
        "# Finally let's now plot the actual graph\n",
        "plt.show()"
      ]
    },
    {
      "cell_type": "markdown",
      "metadata": {
        "id": "VPW1LlD61RDn"
      },
      "source": [
        "**Observations:**\n",
        "\n",
        "We can see here that the accuracy of the model has increased from before, however, the model still seems to be slightly overfitting the data.\n",
        "\n",
        "We can see that the training accuracy increases all the way to Epoch 10 to 11 before it starts to plateau. We also see that the validation accuracy is is higher than training accuracy but is somewhat segmented. This suggests that the model may not be generalizing so well.\n",
        "\n",
        "There could be a couple of different explanations for this:\n",
        "\n",
        "1.   The model is perhaps too complex with too many layers and may be  overfitting slightly.\n",
        "2.   The model is perhaps very sensitive to changes in the validation data.\n",
        "3.   The modelmay be producing more noise data.\n",
        "\n",
        "Overall the accuracy of the model with the complexity, has only improved slightly and is around 0.65. So, adding more complexity to the ANN model has not improved the model predictability significantly. For now, I would also reject this model and see if we can improve with a different approach."
      ]
    },
    {
      "cell_type": "markdown",
      "metadata": {
        "id": "8kuXx9Bvu00f"
      },
      "source": [
        "## **Predictions on the test data**\n",
        "\n",
        "- Make predictions on the test set using the second model.\n",
        "- Print the obtained results using the classification report and the confusion matrix.\n",
        "- Final observations on the obtained results."
      ]
    },
    {
      "cell_type": "code",
      "execution_count": 23,
      "metadata": {
        "id": "xbWMEtTj5Ad0",
        "colab": {
          "base_uri": "https://localhost:8080/"
        },
        "outputId": "d6d225da-64f5-4969-b866-a58657d14865"
      },
      "outputs": [
        {
          "output_type": "stream",
          "name": "stdout",
          "text": [
            "563/563 [==============================] - 2s 4ms/step\n"
          ]
        }
      ],
      "source": [
        "# Let's now use the .predict method to make our predictions\n",
        "test_pred = model_2.predict(X_test)\n",
        "\n",
        "test_pred = np.argmax(test_pred, axis = -1)"
      ]
    },
    {
      "cell_type": "markdown",
      "metadata": {
        "id": "i3li8Ib08yts"
      },
      "source": [
        "**Note:** Earlier, we noticed that each entry of the target variable is a one-hot encoded vector but to print the classification report and confusion matrix, we must convert each entry of y_test to a single label."
      ]
    },
    {
      "cell_type": "code",
      "execution_count": 24,
      "metadata": {
        "id": "NByu7uAQ8x9P"
      },
      "outputs": [],
      "source": [
        "# Converts the original labels back from the matrix coded by one-hot-encoding.\n",
        "y_test = np.argmax(y_test, axis = -1)"
      ]
    },
    {
      "cell_type": "markdown",
      "metadata": {
        "id": "1_SIoopr0XIg"
      },
      "source": [
        "### **Print the classification report and the confusion matrix for the test predictions. Write your observations on the final results.**"
      ]
    },
    {
      "cell_type": "code",
      "execution_count": 27,
      "metadata": {
        "id": "xRddeJ-3EHT1",
        "colab": {
          "base_uri": "https://localhost:8080/",
          "height": 760
        },
        "outputId": "c796a941-4876-4038-f64f-8927253c40be"
      },
      "outputs": [
        {
          "output_type": "stream",
          "name": "stdout",
          "text": [
            "              precision    recall  f1-score   support\n",
            "\n",
            "           0       0.89      0.64      0.74      1814\n",
            "           1       0.57      0.71      0.64      1828\n",
            "           2       0.58      0.79      0.67      1803\n",
            "           3       0.70      0.66      0.68      1719\n",
            "           4       0.75      0.77      0.76      1812\n",
            "           5       0.70      0.67      0.68      1768\n",
            "           6       0.78      0.67      0.72      1832\n",
            "           7       0.72      0.74      0.73      1808\n",
            "           8       0.66      0.63      0.65      1812\n",
            "           9       0.70      0.62      0.65      1804\n",
            "\n",
            "    accuracy                           0.69     18000\n",
            "   macro avg       0.70      0.69      0.69     18000\n",
            "weighted avg       0.70      0.69      0.69     18000\n",
            "\n"
          ]
        },
        {
          "output_type": "display_data",
          "data": {
            "text/plain": [
              "<Figure size 800x500 with 2 Axes>"
            ],
            "image/png": "[encoded data removed]"
          },
          "metadata": {}
        }
      ],
      "source": [
        "# We will now print the classification report using the sklearn method\n",
        "print(classification_report(y_test, test_pred))\n",
        "\n",
        "# We will plot the heatmap using confusion matrix another sklearn method\n",
        "cm = confusion_matrix(y_test, test_pred)\n",
        "\n",
        "# Let's plot the confusion matrix\n",
        "plt.figure(figsize = (8, 5))\n",
        "\n",
        "# We can use the seaborn library to display the heatmap\n",
        "sns.heatmap(cm, annot = True,  fmt = '.0f')\n",
        "\n",
        "# Let's assigns the 'Actual' label to the Y-axis\n",
        "plt.ylabel('Actual')\n",
        "\n",
        "# Let's assign the 'Predicted' label to the X-axis\n",
        "plt.xlabel('Predicted')\n",
        "\n",
        "# Finally, let's plot the result.\n",
        "plt.show()"
      ]
    },
    {
      "cell_type": "markdown",
      "metadata": {
        "id": "DjErl4GA2u9s"
      },
      "source": [
        "**Final Observations:__________**\n",
        "\n",
        "Observations from the confusion matrix:\n",
        "1. Precision is 70% (macro average) which is the ratio of true positive predictions to the total number of predicted positive.\n",
        "Precision is relatively high for classes 0, 3, 4, 5, 6, 7, and 9, this indicates that when the model predicts these classes, it often is correct. Classes 0, 4, and 6, in particular, have high precision values (0.89, 0.75 and 0.78, respectively).\n",
        "Precision is lower for classes 1, 2, and 8, this indicates that the model is has more false positives for these classes. In these cases, the model identifies an image as a certain number, but it actually is a mistake.\n",
        "\n",
        "\n",
        "\n",
        "\n",
        "2. Recall was 69% (macro average) and it measures the ratio of true positive predictions to the total number of actual number images. This measures how many of the actual true images are correctly predicted. We can see that, Recall is quite high for classes 1, 2, 4, and 7, this suggests that the model is able to capture a significant proportion of true predictions for these classes.\n",
        "However, we notice that, Recall is lower for classes 0, 3, 5, 6, 8, and 9, implying that the model misses identifying correctly for quite a few classes.\n",
        "\n",
        "\n",
        "\n",
        "\n",
        "3. The F1-score is a harmonic mean of precision and recall. It provides a balance between precision and recall.\n",
        "We can see that the F1-scores are generally in the range of 0.64 to 0.76, with higher values for classes 0, 4, 6, and 7.\n",
        "\n",
        "\n",
        "\n",
        "\n",
        "4. The overall accuracy is 0.69, indicating that the model was able to correctly predict the class labels for 69% of the images in the test dataset.\n",
        "\n",
        "\n",
        "5. Macro-Average and Weighted-Average: The macro-averaged precision, recall, and F1-score are around 0.70, this suggests balanced performance across all classes when each class is given equal weight.\n",
        "The weighted average taking into account class imbalances is also around 0.70.\n",
        "\n",
        "**Key Takeaways:**\n",
        "\n",
        "The model performs well for some classes such as: 0, 4, 6 but not so well for some other class such as: 1, 2, 8.\n",
        "Macro and weighted averages provide a more comprehensive view of the overall performance and therefore class imbalances should be taken into account.\n",
        "\n",
        "\n",
        "When analyzing the current model's performance, it is important to balance between precision and recall. For example, if false positives are more important, precision then is an important measure to take into account.\n",
        "We can see here that this model seems to be misclassifying around 31% of the times.\n",
        "\n",
        "\n",
        "In summary, the model performance has improved, but still the predicability seems to be not so great with almost 31% of misclassifications. So, there seems to be some more possibility for improvement. Exploring further fine tuning, or considering a different model architecture like a Convolutional Neural Network which may be better suited for image data may help improve predictability for some classes. So for now, I would suggest rejecting this model and look for another model."
      ]
    },
    {
      "cell_type": "markdown",
      "metadata": {
        "id": "xkR4JioMsuIV"
      },
      "source": [
        "## **Using Convolutional Neural Networks**"
      ]
    },
    {
      "cell_type": "markdown",
      "metadata": {
        "id": "YN2YgkGL_6xQ"
      },
      "source": [
        "### **Load the dataset again and split the data into the train and the test dataset.**"
      ]
    },
    {
      "cell_type": "code",
      "execution_count": 28,
      "metadata": {
        "id": "mqM204HbAjP2",
        "scrolled": true,
        "colab": {
          "base_uri": "https://localhost:8080/"
        },
        "outputId": "3b997c61-a974-4d4e-f2fc-427577a02519"
      },
      "outputs": [
        {
          "output_type": "stream",
          "name": "stdout",
          "text": [
            "['X_test', 'X_train', 'X_val', 'y_test', 'y_train', 'y_val']\n"
          ]
        }
      ],
      "source": [
        "# Load the hdf5 file\n",
        "with h5py.File(file_path, 'r') as f:\n",
        "    print(list(f.keys()))\n",
        "    X_train = f['X_train'][:]\n",
        "    y_train = f['y_train'][:]\n",
        "    X_test = f['X_test'][:]\n",
        "    y_test = f['y_test'][:]"
      ]
    },
    {
      "cell_type": "markdown",
      "metadata": {
        "id": "6fPqF_xGAjQB"
      },
      "source": [
        "Check the number of images in the training and the testing dataset."
      ]
    },
    {
      "cell_type": "code",
      "execution_count": 29,
      "metadata": {
        "id": "gTLJZWjPAjQB",
        "colab": {
          "base_uri": "https://localhost:8080/"
        },
        "outputId": "2f0e50ba-38d3-4ca8-8085-ef9ee2b87871"
      },
      "outputs": [
        {
          "output_type": "execute_result",
          "data": {
            "text/plain": [
              "(42000, 18000)"
            ]
          },
          "metadata": {},
          "execution_count": 29
        }
      ],
      "source": [
        "len(X_train), len(X_test)"
      ]
    },
    {
      "cell_type": "markdown",
      "metadata": {
        "id": "9qyMiP_rAjQB"
      },
      "source": [
        "**Observation:**\n",
        "This confirms that the dataset is loaded correctly and has the same number of images\n"
      ]
    },
    {
      "cell_type": "markdown",
      "metadata": {
        "id": "OJndFfEVAjQG"
      },
      "source": [
        "## **Data preparation**\n",
        "\n",
        "- Print the shape and the array of pixels for the first image in the training dataset.\n",
        "- Reshape the train and the test dataset because we always have to give a 4D array as input to CNNs.\n",
        "- Normalize the train and the test dataset by dividing by 255.\n",
        "- Print the new shapes of the train and the test dataset.\n",
        "- One-hot encode the target variable."
      ]
    },
    {
      "cell_type": "code",
      "execution_count": 30,
      "metadata": {
        "id": "W4uXqKz1AjQG",
        "colab": {
          "base_uri": "https://localhost:8080/"
        },
        "outputId": "8205e5d5-6c0f-4bb5-d629-0a6d250ec1f4"
      },
      "outputs": [
        {
          "output_type": "stream",
          "name": "stdout",
          "text": [
            "Shape: (32, 32)\n",
            "First image:\n",
            " [[ 33.0704  30.2601  26.852  ...  71.4471  58.2204  42.9939]\n",
            " [ 25.2283  25.5533  29.9765 ... 113.0209 103.3639  84.2949]\n",
            " [ 26.2775  22.6137  40.4763 ... 113.3028 121.775  115.4228]\n",
            " ...\n",
            " [ 28.5502  36.212   45.0801 ...  24.1359  25.0927  26.0603]\n",
            " [ 38.4352  26.4733  23.2717 ...  28.1094  29.4683  30.0661]\n",
            " [ 50.2984  26.0773  24.0389 ...  49.6682  50.853   53.0377]]\n"
          ]
        }
      ],
      "source": [
        "print(\"Shape:\", X_train[0].shape)\n",
        "\n",
        "print(\"First image:\\n\", X_train[0])"
      ]
    },
    {
      "cell_type": "markdown",
      "metadata": {
        "id": "at30iiX1__7F"
      },
      "source": [
        "Reshape the dataset to be able to pass them to CNNs. Remember that we always have to give a 4D array as input to CNNs"
      ]
    },
    {
      "cell_type": "code",
      "execution_count": 31,
      "metadata": {
        "id": "D9YPwf9ysqWU"
      },
      "outputs": [],
      "source": [
        "# For CNN we need to always have a 4D array as input,so therefore we need to reshape the arrays\n",
        "\n",
        "# 4D array:\n",
        "# 1 Batch size\n",
        "# 2 Height of the image\n",
        "# 3 Width of the image\n",
        "# 4 Number of channels (e.g., 3 for RGB or 1 for grayscale)\n",
        "\n",
        "X_train = X_train.reshape(X_train.shape[0], 32, 32, 1)\n",
        "\n",
        "X_test = X_test.reshape(X_test.shape[0], 32, 32, 1)"
      ]
    },
    {
      "cell_type": "markdown",
      "metadata": {
        "id": "ODYnoLfaAEGx"
      },
      "source": [
        "Normalize inputs from 0-255 to 0-1"
      ]
    },
    {
      "cell_type": "code",
      "execution_count": 32,
      "metadata": {
        "id": "eOGLAn40AjQG"
      },
      "outputs": [],
      "source": [
        "# Let's normalize the inputs from 0-255 to 0-1 as we did before\n",
        "\n",
        "X_train = X_train / 255.0\n",
        "\n",
        "X_test = X_test / 255.0"
      ]
    },
    {
      "cell_type": "markdown",
      "metadata": {
        "id": "cS9T4HqjAoyM"
      },
      "source": [
        "Print New shape of Training and Test"
      ]
    },
    {
      "cell_type": "code",
      "execution_count": 33,
      "metadata": {
        "id": "5qf8S5NQAjQG",
        "colab": {
          "base_uri": "https://localhost:8080/"
        },
        "outputId": "9cb03e89-b742-42d9-9ace-d3a2d661feac"
      },
      "outputs": [
        {
          "output_type": "stream",
          "name": "stdout",
          "text": [
            "Training set: (42000, 32, 32, 1) (42000,)\n",
            "Test set: (18000, 32, 32, 1) (18000,)\n"
          ]
        }
      ],
      "source": [
        "# Let's take a look at how the new shape looks like for the Training dataset and the Test dataset:\n",
        "print('Training set:', X_train.shape, y_train.shape)\n",
        "\n",
        "print('Test set:', X_test.shape, y_test.shape)"
      ]
    },
    {
      "cell_type": "markdown",
      "metadata": {
        "id": "10QaOV-xR7Jn"
      },
      "source": [
        "### **One-hot encode the labels in the target variable y_train and y_test.**"
      ]
    },
    {
      "cell_type": "code",
      "execution_count": 34,
      "metadata": {
        "id": "3KHWFWKMAjQH"
      },
      "outputs": [],
      "source": [
        "# Let's turn the y_train and y-test variables into a matrix that is one-hot encoded\n",
        "\n",
        "y_train = to_categorical(y_train)\n",
        "\n",
        "y_test = to_categorical(y_test)"
      ]
    },
    {
      "cell_type": "code",
      "source": [
        "# Print the converted matrix\n",
        "print(y_test)"
      ],
      "metadata": {
        "colab": {
          "base_uri": "https://localhost:8080/"
        },
        "id": "eR2eTYKfHtaY",
        "outputId": "54a51c24-48e5-4306-be4e-47d55904d066"
      },
      "execution_count": 36,
      "outputs": [
        {
          "output_type": "stream",
          "name": "stdout",
          "text": [
            "[[0. 1. 0. ... 0. 0. 0.]\n",
            " [0. 0. 0. ... 1. 0. 0.]\n",
            " [0. 0. 1. ... 0. 0. 0.]\n",
            " ...\n",
            " [0. 0. 0. ... 1. 0. 0.]\n",
            " [0. 0. 0. ... 0. 0. 1.]\n",
            " [0. 0. 1. ... 0. 0. 0.]]\n"
          ]
        }
      ]
    },
    {
      "cell_type": "markdown",
      "metadata": {
        "id": "H-8jYVQTAjQH"
      },
      "source": [
        "**Observation:**\n",
        "The dataset is now ready to be used in a Convolutional Neural Network Model\n"
      ]
    },
    {
      "cell_type": "markdown",
      "metadata": {
        "id": "Vjx_LI4_AjQH"
      },
      "source": [
        "## **Model Building**\n",
        "\n",
        "Now that we have done data preprocessing, let's build a CNN model.\n",
        "Fix the seed for random number generators"
      ]
    },
    {
      "cell_type": "code",
      "execution_count": 37,
      "metadata": {
        "id": "ZY5pyF4-KDNt"
      },
      "outputs": [],
      "source": [
        "# Let's use the seed setup function to reset and create all the seeds\n",
        "seed_setup()"
      ]
    },
    {
      "cell_type": "markdown",
      "metadata": {
        "id": "1JUAczhzAjQH"
      },
      "source": [
        "### **Model Architecture**\n",
        "- **Write a function** that returns a sequential model with the following architecture:\n",
        " - First Convolutional layer with **16 filters and the kernel size of 3x3**. Use the **'same' padding** and provide the **input shape = (32, 32, 1)**\n",
        " - Add a **LeakyRelu layer** with the **slope equal to 0.1**\n",
        " - Second Convolutional layer with **32 filters and the kernel size of 3x3 with 'same' padding**\n",
        " - Another **LeakyRelu** with the **slope equal to 0.1**\n",
        " - A **max-pooling layer** with a **pool size of 2x2**\n",
        " - **Flatten** the output from the previous layer\n",
        " - Add a **dense layer with 32 nodes**\n",
        " - Add a **LeakyRelu layer with the slope equal to 0.1**\n",
        " - Add the final **output layer with nodes equal to the number of classes, i.e., 10** and **'softmax' as the activation function**\n",
        " - Compile the model with the **loss equal to categorical_crossentropy, optimizer equal to Adam(learning_rate = 0.001), and metric equal to 'accuracy'**. Do not fit the model here, just return the compiled model.\n",
        "- Call the function cnn_model_1 and store the output in a new variable.\n",
        "- Print the summary of the model.\n",
        "- Fit the model on the training data with a **validation split of 0.2, batch size = 32, verbose = 1, and epochs = 20**. Store the model building history to use later for visualization."
      ]
    },
    {
      "cell_type": "markdown",
      "metadata": {
        "id": "JWsAd45JKDNu"
      },
      "source": [
        "### **Build and train a CNN model as per the above mentioned architecture.**"
      ]
    },
    {
      "cell_type": "code",
      "execution_count": 38,
      "metadata": {
        "id": "L1jOYANWAjQH",
        "colab": {
          "base_uri": "https://localhost:8080/"
        },
        "outputId": "1e27feac-24c8-4314-fc9a-89860cb61636"
      },
      "outputs": [
        {
          "output_type": "stream",
          "name": "stdout",
          "text": [
            "Model: \"sequential_1\"\n",
            "_________________________________________________________________\n",
            " Layer (type)                Output Shape              Param #   \n",
            "=================================================================\n",
            " conv2d (Conv2D)             (None, 32, 32, 16)        160       \n",
            "                                                                 \n",
            " leaky_re_lu (LeakyReLU)     (None, 32, 32, 16)        0         \n",
            "                                                                 \n",
            " conv2d_1 (Conv2D)           (None, 32, 32, 32)        4640      \n",
            "                                                                 \n",
            " leaky_re_lu_1 (LeakyReLU)   (None, 32, 32, 32)        0         \n",
            "                                                                 \n",
            " max_pooling2d (MaxPooling2D  (None, 16, 16, 32)       0         \n",
            " )                                                               \n",
            "                                                                 \n",
            " flatten (Flatten)           (None, 8192)              0         \n",
            "                                                                 \n",
            " dense_6 (Dense)             (None, 32)                262176    \n",
            "                                                                 \n",
            " leaky_re_lu_2 (LeakyReLU)   (None, 32)                0         \n",
            "                                                                 \n",
            " dense_7 (Dense)             (None, 10)                330       \n",
            "                                                                 \n",
            "=================================================================\n",
            "Total params: 267,306\n",
            "Trainable params: 267,306\n",
            "Non-trainable params: 0\n",
            "_________________________________________________________________\n",
            "Epoch 1/20\n",
            "1050/1050 [==============================] - 95s 90ms/step - loss: 1.1104 - accuracy: 0.6407 - val_loss: 0.6538 - val_accuracy: 0.8092\n",
            "Epoch 2/20\n",
            "1050/1050 [==============================] - 95s 91ms/step - loss: 0.5391 - accuracy: 0.8455 - val_loss: 0.5249 - val_accuracy: 0.8460\n",
            "Epoch 3/20\n",
            "1050/1050 [==============================] - 90s 86ms/step - loss: 0.4407 - accuracy: 0.8688 - val_loss: 0.4947 - val_accuracy: 0.8617\n",
            "Epoch 4/20\n",
            "1050/1050 [==============================] - 88s 84ms/step - loss: 0.3782 - accuracy: 0.8885 - val_loss: 0.4393 - val_accuracy: 0.8782\n",
            "Epoch 5/20\n",
            "1050/1050 [==============================] - 91s 86ms/step - loss: 0.3322 - accuracy: 0.9004 - val_loss: 0.4515 - val_accuracy: 0.8745\n",
            "Epoch 6/20\n",
            "1050/1050 [==============================] - 90s 86ms/step - loss: 0.2925 - accuracy: 0.9112 - val_loss: 0.4731 - val_accuracy: 0.8692\n",
            "Epoch 7/20\n",
            "1050/1050 [==============================] - 93s 89ms/step - loss: 0.2630 - accuracy: 0.9199 - val_loss: 0.4649 - val_accuracy: 0.8715\n",
            "Epoch 8/20\n",
            "1050/1050 [==============================] - 90s 86ms/step - loss: 0.2340 - accuracy: 0.9266 - val_loss: 0.4819 - val_accuracy: 0.8717\n",
            "Epoch 9/20\n",
            "1050/1050 [==============================] - 88s 84ms/step - loss: 0.2113 - accuracy: 0.9348 - val_loss: 0.4790 - val_accuracy: 0.8781\n",
            "Epoch 10/20\n",
            "1050/1050 [==============================] - 91s 86ms/step - loss: 0.1887 - accuracy: 0.9415 - val_loss: 0.4878 - val_accuracy: 0.8776\n",
            "Epoch 11/20\n",
            "1050/1050 [==============================] - 90s 86ms/step - loss: 0.1675 - accuracy: 0.9488 - val_loss: 0.5432 - val_accuracy: 0.8758\n",
            "Epoch 12/20\n",
            "1050/1050 [==============================] - 91s 86ms/step - loss: 0.1518 - accuracy: 0.9524 - val_loss: 0.5550 - val_accuracy: 0.8735\n",
            "Epoch 13/20\n",
            "1050/1050 [==============================] - 88s 84ms/step - loss: 0.1331 - accuracy: 0.9585 - val_loss: 0.5935 - val_accuracy: 0.8680\n",
            "Epoch 14/20\n",
            "1050/1050 [==============================] - 91s 86ms/step - loss: 0.1218 - accuracy: 0.9614 - val_loss: 0.6262 - val_accuracy: 0.8656\n",
            "Epoch 15/20\n",
            "1050/1050 [==============================] - 90s 86ms/step - loss: 0.1111 - accuracy: 0.9648 - val_loss: 0.6642 - val_accuracy: 0.8670\n",
            "Epoch 16/20\n",
            "1050/1050 [==============================] - 94s 89ms/step - loss: 0.1025 - accuracy: 0.9662 - val_loss: 0.6503 - val_accuracy: 0.8720\n",
            "Epoch 17/20\n",
            "1050/1050 [==============================] - 90s 86ms/step - loss: 0.0865 - accuracy: 0.9726 - val_loss: 0.7214 - val_accuracy: 0.8676\n",
            "Epoch 18/20\n",
            "1050/1050 [==============================] - 94s 89ms/step - loss: 0.0844 - accuracy: 0.9724 - val_loss: 0.7855 - val_accuracy: 0.8623\n",
            "Epoch 19/20\n",
            "1050/1050 [==============================] - 94s 89ms/step - loss: 0.0742 - accuracy: 0.9751 - val_loss: 0.8000 - val_accuracy: 0.8692\n",
            "Epoch 20/20\n",
            "1050/1050 [==============================] - 91s 86ms/step - loss: 0.0691 - accuracy: 0.9770 - val_loss: 0.8442 - val_accuracy: 0.8639\n"
          ]
        }
      ],
      "source": [
        "# Let's importing the libraries required for a CNN Model\n",
        "from keras.layers import Conv2D, LeakyReLU, MaxPooling2D, Flatten, Dense\n",
        "from keras.optimizers import Adam\n",
        "\n",
        "def cnn_model_1():\n",
        "    model = Sequential()\n",
        "\n",
        "    # First Convolutional layer as per Model Architecture\n",
        "    # Let's add a first Convolutional layer with 16 filters and a kernel size of 3x3.\n",
        "    # Let's set the padding as 'same' and provide the input shape = (32, 32, 1)\n",
        "    # We will also add a LeakyRelu layer with the slope equal to 0.1\n",
        "    model.add(Conv2D(16, (3, 3), padding='same', input_shape=(32, 32, 1)))\n",
        "    model.add(LeakyReLU(0.1))\n",
        "\n",
        "    # Second Convolutional layer as per Model Architecture\n",
        "    # Let's add a second Convolutional layer with 32 filters and a kernel size of 3x3\n",
        "    # Let's set the pading as 'same'\n",
        "    # We will also add another LeakyRelu with the slope equal to 0.1\n",
        "    model.add(Conv2D(32, (3, 3), padding='same'))\n",
        "    model.add(LeakyReLU(0.1))\n",
        "\n",
        "    # Max-pooling layer as per Model Architecture\n",
        "    # Let's add a max-pooling layer with a pool size of 2x2\n",
        "    model.add(MaxPooling2D(pool_size=(2, 2)))\n",
        "\n",
        "    # Let's flatten the output from the previous layer as per Model instructtion\n",
        "    model.add(Flatten())\n",
        "\n",
        "    # Let's add a dense layer with 32 nodes as per Model instruction\n",
        "    # Let's also add a LeakyRelu layer with the slope equal to 0.1\n",
        "    model.add(Dense(32))\n",
        "    model.add(LeakyReLU(0.1))\n",
        "\n",
        "    # Output layer as per Model Architecture\n",
        "    # Let's add a final output layer with nodes equal to the total number of classes, i.e., 10\n",
        "    # Let's also use 'softmax' as the activation function\n",
        "    model.add(Dense(10, activation='softmax'))\n",
        "\n",
        "\n",
        "    # Compile the model with the loss equal to categorical_crossentropy\n",
        "    # Let's set the optimizer equal to Adam(learning_rate = 0.001), and metric equal to 'accuracy'.\n",
        "    model.compile(loss='categorical_crossentropy',\n",
        "                  optimizer=Adam(learning_rate=0.001),\n",
        "                  metrics=['accuracy'])\n",
        "\n",
        "    return model\n",
        "\n",
        "# Let's build the CNN model using the function cnn_model_1\n",
        "cnn_model_1 = cnn_model_1()\n",
        "\n",
        "# Let's also print the model summary\n",
        "cnn_model_1.summary()\n",
        "\n",
        "# Finally, let's fit the model on the training data\n",
        "# Let's use a validation split of 0.2, batch size = 32, verbose = 1, and epochs = 20\n",
        "# Let's store the model building history to use later for visualization\n",
        "history_cnn_model_1 = cnn_model_1.fit(X_train, y_train,\n",
        "                                      validation_split=0.2,\n",
        "                                      batch_size=32,\n",
        "                                      verbose=1,\n",
        "                                      epochs=20)\n",
        "\n"
      ]
    },
    {
      "cell_type": "markdown",
      "metadata": {
        "id": "JPzfIf9kKDNw"
      },
      "source": [
        "### **Plot the Training and Validation Accuracies and Write your observations.**"
      ]
    },
    {
      "cell_type": "code",
      "execution_count": 39,
      "metadata": {
        "id": "07oUCr1kAjQH",
        "colab": {
          "base_uri": "https://localhost:8080/",
          "height": 696
        },
        "outputId": "15ed4fa3-edc8-4780-b83a-f40a94f62a75"
      },
      "outputs": [
        {
          "output_type": "display_data",
          "data": {
            "text/plain": [
              "<Figure size 800x800 with 1 Axes>"
            ],
            "image/png": "[encoded data removed]"
          },
          "metadata": {}
        }
      ],
      "source": [
        "# Let's now plot the training and validation accuracies.\n",
        "\n",
        "# As we did before, we extract the training history from the Keras model and store it in a dictionary.\n",
        "dict_hist = history_cnn_model_1.history\n",
        "\n",
        "# Let's create a list of all the epochs to run through\n",
        "list_ep = [i for i in range(1, 21)]\n",
        "\n",
        "# We can now create an area to plot the graph using MatPlotLib\n",
        "plt.figure(figsize = (8, 8))\n",
        "\n",
        "# Let's now plot the Accuracy in Blue\n",
        "plt.plot(list_ep, dict_hist['accuracy'], ls = '--', label = 'accuracy')\n",
        "\n",
        "# We will now plot the second line 'Validation Accuracy' in Yellow\n",
        "plt.plot(list_ep, dict_hist['val_accuracy'], ls = '--', label = 'val_accuracy')\n",
        "\n",
        "# We will set the label for the Y-axis as 'Accuracy'\n",
        "plt.ylabel('Accuracy')\n",
        "\n",
        "# We will set the label for the X-axis as 'Epochs'\n",
        "plt.xlabel('Epochs')\n",
        "\n",
        "# Let's also set a legend for the graph\n",
        "plt.legend()\n",
        "\n",
        "# Finally let's now plot the actual graph\n",
        "plt.show()"
      ]
    },
    {
      "cell_type": "markdown",
      "metadata": {
        "id": "P6zTLyp9AjQH"
      },
      "source": [
        "**Observations:__________**\n",
        "\n",
        "**1. Initial Training: Epochs 1-2:**\n",
        "\n",
        "Blue Line (Training Accuracy): The rapid and then smooth increase in the training accuracy up to around 0.99 indicates that the model is learning well from the training data and is able to fit the training dataset quite well.\n",
        "\n",
        "Yellow Line (Validation Accuracy): The validation accuracy increases for the first two epochs and this also indicates that the model is able to generalize  the validation set in the beginning.\n",
        "\n",
        "\n",
        "**2. Fragmentation and Plateauing: Epochs 3-20:**\n",
        "\n",
        "Validation Accuracy - Yellow Line: The validation accuracy framgments and plateaus from the third epoch, this indicates that the model is having difficulty  to generalize after a certain point. The model starts to plateau around 0.87 indicating that it is reaching a performance limit on unseen data, and then it might be starting to overfit the training dataset.\n",
        "\n",
        "Training Accuracy - Blue Line: On the other hand, the training accuracy shows a smooth increase up to 0.99  and this suggests that the model is able to fit the training data well, but the decrease in the validation accuracy suggest that this may be due to overfitting.\n",
        "\n",
        "\n",
        "**Potential Improvements:**\n",
        "The model seems to be overfitting the training data. One notices this from  the large gap between training and validation accuracy. One can reduce or mitigate overfitting by ssing techniques such as dropout or regularization.\n",
        "\n",
        "Another approach is to incorporate data augmentation i.e. to expose the model to a greater varity of examples during the model training process. This can also help the model to improving generalization and not to overfit.\n",
        "\n",
        "In addition, once can also fine tune and test with different learning rates. A higher learning rate may cause the model to overshoot, while a lower learning rate might slow down the convergence significantly.\n",
        "\n",
        "Architecture Complexity: One must also review the complexity of the model. If the model is too complex, it may memorize noise as a pattern instead of learning to recognize patterns.\n",
        "Early Stopping: One other option is to stop the training early and to monitor the validation performance. For example, to stop the training when the validation performance starts to degrade, so as to prevent overfitting.\n",
        "\n",
        "\n",
        "In summary, the large gap between the training accuracy and validation accuracy while the training accuracy continues to improve suggests that the model is overfitting. For now, I am going to reject this model as well.\n"
      ]
    },
    {
      "cell_type": "markdown",
      "metadata": {
        "id": "Ukvtg2eMAjQH"
      },
      "source": [
        "We will now go ahead and build a different model and see if we can improve the model performance.\n",
        "\n",
        "As we did before, let's  clear the previous model's history from the Keras backend. Also, let's fix the seed again after clearing the Keras backend."
      ]
    },
    {
      "cell_type": "code",
      "execution_count": 40,
      "metadata": {
        "id": "HbKi93HTolGW"
      },
      "outputs": [],
      "source": [
        "# Let's clear the Keras backend\n",
        "backend.clear_session()\n",
        "\n",
        "# Let's reset the seed\n",
        "seed_setup()"
      ]
    },
    {
      "cell_type": "markdown",
      "metadata": {
        "id": "Ep19Jd8HAjQH"
      },
      "source": [
        "### **Second Model Architecture**\n",
        "\n",
        "- Write a function that returns a sequential model with the following architecture:\n",
        " - First Convolutional layer with **16 filters and the kernel size of 3x3**. Use the **'same' padding** and provide the **input shape = (32, 32, 1)**\n",
        " - Add a **LeakyRelu layer** with the **slope equal to 0.1**\n",
        " - Second Convolutional layer with **32 filters and the kernel size of 3x3 with 'same' padding**\n",
        " - Add **LeakyRelu** with the **slope equal to 0.1**\n",
        " - Add a **max-pooling layer** with a **pool size of 2x2**\n",
        " - Add a **BatchNormalization layer**\n",
        " - Third Convolutional layer with **32 filters and the kernel size of 3x3 with 'same' padding**\n",
        " - Add a **LeakyRelu layer with the slope equal to 0.1**\n",
        " - Fourth Convolutional layer **64 filters and the kernel size of 3x3 with 'same' padding**\n",
        " - Add a **LeakyRelu layer with the slope equal to 0.1**\n",
        " - Add a **max-pooling layer** with a **pool size of 2x2**\n",
        " - Add a **BatchNormalization layer**\n",
        " - **Flatten** the output from the previous layer\n",
        " - Add a **dense layer with 32 nodes**\n",
        " - Add a **LeakyRelu layer with the slope equal to 0.1**\n",
        " - Add a **dropout layer with the rate equal to 0.5**\n",
        " - Add the final **output layer with nodes equal to the number of classes, i.e., 10** and **'softmax' as the activation function**\n",
        " - Compile the model with the **categorical_crossentropy loss, adam optimizers (learning_rate = 0.001), and metric equal to 'accuracy'**. Do not fit the model here, just return the compiled model.\n",
        "- Call the function cnn_model_2 and store the model in a new variable.\n",
        "- Print the summary of the model.\n",
        "- Fit the model on the train data with a **validation split of 0.2, batch size = 128, verbose = 1, and epochs = 30**. Store the model building history to use later for visualization."
      ]
    },
    {
      "cell_type": "markdown",
      "metadata": {
        "id": "y5IBLS1eKDNy"
      },
      "source": [
        "### **Build and train the second CNN model as per the above mentioned architecture.**"
      ]
    },
    {
      "cell_type": "code",
      "execution_count": 42,
      "metadata": {
        "id": "wk9sl2UEAjQH",
        "colab": {
          "base_uri": "https://localhost:8080/"
        },
        "outputId": "28a624fd-0b18-4c84-c12f-bc406092ace0"
      },
      "outputs": [
        {
          "output_type": "stream",
          "name": "stdout",
          "text": [
            "Model: \"sequential\"\n",
            "_________________________________________________________________\n",
            " Layer (type)                Output Shape              Param #   \n",
            "=================================================================\n",
            " conv2d (Conv2D)             (None, 32, 32, 16)        160       \n",
            "                                                                 \n",
            " leaky_re_lu (LeakyReLU)     (None, 32, 32, 16)        0         \n",
            "                                                                 \n",
            " conv2d_1 (Conv2D)           (None, 32, 32, 32)        4640      \n",
            "                                                                 \n",
            " leaky_re_lu_1 (LeakyReLU)   (None, 32, 32, 32)        0         \n",
            "                                                                 \n",
            " max_pooling2d (MaxPooling2D  (None, 16, 16, 32)       0         \n",
            " )                                                               \n",
            "                                                                 \n",
            " batch_normalization (BatchN  (None, 16, 16, 32)       128       \n",
            " ormalization)                                                   \n",
            "                                                                 \n",
            " conv2d_2 (Conv2D)           (None, 16, 16, 32)        9248      \n",
            "                                                                 \n",
            " leaky_re_lu_2 (LeakyReLU)   (None, 16, 16, 32)        0         \n",
            "                                                                 \n",
            " conv2d_3 (Conv2D)           (None, 16, 16, 64)        18496     \n",
            "                                                                 \n",
            " leaky_re_lu_3 (LeakyReLU)   (None, 16, 16, 64)        0         \n",
            "                                                                 \n",
            " max_pooling2d_1 (MaxPooling  (None, 8, 8, 64)         0         \n",
            " 2D)                                                             \n",
            "                                                                 \n",
            " batch_normalization_1 (Batc  (None, 8, 8, 64)         256       \n",
            " hNormalization)                                                 \n",
            "                                                                 \n",
            " flatten (Flatten)           (None, 4096)              0         \n",
            "                                                                 \n",
            " dense (Dense)               (None, 32)                131104    \n",
            "                                                                 \n",
            " leaky_re_lu_4 (LeakyReLU)   (None, 32)                0         \n",
            "                                                                 \n",
            " dropout (Dropout)           (None, 32)                0         \n",
            "                                                                 \n",
            " dense_1 (Dense)             (None, 10)                330       \n",
            "                                                                 \n",
            "=================================================================\n",
            "Total params: 164,362\n",
            "Trainable params: 164,170\n",
            "Non-trainable params: 192\n",
            "_________________________________________________________________\n",
            "Epoch 1/30\n",
            "263/263 [==============================] - 158s 590ms/step - loss: 1.3295 - accuracy: 0.5492 - val_loss: 1.8366 - val_accuracy: 0.4012\n",
            "Epoch 2/30\n",
            "263/263 [==============================] - 154s 586ms/step - loss: 0.6629 - accuracy: 0.7947 - val_loss: 0.6296 - val_accuracy: 0.8187\n",
            "Epoch 3/30\n",
            "263/263 [==============================] - 155s 588ms/step - loss: 0.5465 - accuracy: 0.8348 - val_loss: 0.4336 - val_accuracy: 0.8780\n",
            "Epoch 4/30\n",
            "263/263 [==============================] - 159s 601ms/step - loss: 0.4917 - accuracy: 0.8516 - val_loss: 0.4073 - val_accuracy: 0.8854\n",
            "Epoch 5/30\n",
            "263/263 [==============================] - 155s 592ms/step - loss: 0.4366 - accuracy: 0.8640 - val_loss: 0.3888 - val_accuracy: 0.8892\n",
            "Epoch 6/30\n",
            "263/263 [==============================] - 156s 594ms/step - loss: 0.3996 - accuracy: 0.8781 - val_loss: 0.3651 - val_accuracy: 0.8974\n",
            "Epoch 7/30\n",
            "263/263 [==============================] - 153s 582ms/step - loss: 0.3777 - accuracy: 0.8843 - val_loss: 0.4153 - val_accuracy: 0.8815\n",
            "Epoch 8/30\n",
            "263/263 [==============================] - 152s 578ms/step - loss: 0.3509 - accuracy: 0.8906 - val_loss: 0.4018 - val_accuracy: 0.8902\n",
            "Epoch 9/30\n",
            "263/263 [==============================] - 154s 586ms/step - loss: 0.3275 - accuracy: 0.8968 - val_loss: 0.3914 - val_accuracy: 0.9014\n",
            "Epoch 10/30\n",
            "263/263 [==============================] - 155s 589ms/step - loss: 0.3174 - accuracy: 0.9011 - val_loss: 0.3334 - val_accuracy: 0.9111\n",
            "Epoch 11/30\n",
            "263/263 [==============================] - 155s 588ms/step - loss: 0.2925 - accuracy: 0.9087 - val_loss: 0.3488 - val_accuracy: 0.9071\n",
            "Epoch 12/30\n",
            "263/263 [==============================] - 155s 591ms/step - loss: 0.2799 - accuracy: 0.9114 - val_loss: 0.3864 - val_accuracy: 0.9073\n",
            "Epoch 13/30\n",
            "263/263 [==============================] - 156s 593ms/step - loss: 0.2641 - accuracy: 0.9160 - val_loss: 0.3677 - val_accuracy: 0.9050\n",
            "Epoch 14/30\n",
            "263/263 [==============================] - 156s 592ms/step - loss: 0.2520 - accuracy: 0.9205 - val_loss: 0.4185 - val_accuracy: 0.9025\n",
            "Epoch 15/30\n",
            "263/263 [==============================] - 151s 575ms/step - loss: 0.2461 - accuracy: 0.9210 - val_loss: 0.3930 - val_accuracy: 0.9063\n",
            "Epoch 16/30\n",
            "263/263 [==============================] - 155s 591ms/step - loss: 0.2346 - accuracy: 0.9253 - val_loss: 0.3720 - val_accuracy: 0.9083\n",
            "Epoch 17/30\n",
            "263/263 [==============================] - 155s 588ms/step - loss: 0.2230 - accuracy: 0.9255 - val_loss: 0.3647 - val_accuracy: 0.9079\n",
            "Epoch 18/30\n",
            "263/263 [==============================] - 154s 587ms/step - loss: 0.2127 - accuracy: 0.9305 - val_loss: 0.3805 - val_accuracy: 0.9096\n",
            "Epoch 19/30\n",
            "263/263 [==============================] - 154s 587ms/step - loss: 0.2088 - accuracy: 0.9318 - val_loss: 0.4096 - val_accuracy: 0.9135\n",
            "Epoch 20/30\n",
            "263/263 [==============================] - 155s 588ms/step - loss: 0.2049 - accuracy: 0.9349 - val_loss: 0.3969 - val_accuracy: 0.9137\n",
            "Epoch 21/30\n",
            "263/263 [==============================] - 155s 589ms/step - loss: 0.1959 - accuracy: 0.9351 - val_loss: 0.4218 - val_accuracy: 0.9102\n",
            "Epoch 22/30\n",
            "263/263 [==============================] - 154s 585ms/step - loss: 0.1880 - accuracy: 0.9376 - val_loss: 0.4353 - val_accuracy: 0.8935\n",
            "Epoch 23/30\n",
            "263/263 [==============================] - 155s 591ms/step - loss: 0.1816 - accuracy: 0.9407 - val_loss: 0.4080 - val_accuracy: 0.9104\n",
            "Epoch 24/30\n",
            "263/263 [==============================] - 155s 591ms/step - loss: 0.1783 - accuracy: 0.9418 - val_loss: 0.4423 - val_accuracy: 0.9058\n",
            "Epoch 25/30\n",
            "263/263 [==============================] - 155s 588ms/step - loss: 0.1694 - accuracy: 0.9434 - val_loss: 0.4179 - val_accuracy: 0.9058\n",
            "Epoch 26/30\n",
            "263/263 [==============================] - 155s 589ms/step - loss: 0.1663 - accuracy: 0.9443 - val_loss: 0.4710 - val_accuracy: 0.9029\n",
            "Epoch 27/30\n",
            "263/263 [==============================] - 155s 590ms/step - loss: 0.1650 - accuracy: 0.9451 - val_loss: 0.4196 - val_accuracy: 0.9131\n",
            "Epoch 28/30\n",
            "263/263 [==============================] - 156s 593ms/step - loss: 0.1601 - accuracy: 0.9464 - val_loss: 0.4408 - val_accuracy: 0.9087\n",
            "Epoch 29/30\n",
            "263/263 [==============================] - 155s 590ms/step - loss: 0.1603 - accuracy: 0.9462 - val_loss: 0.4402 - val_accuracy: 0.9033\n",
            "Epoch 30/30\n",
            "263/263 [==============================] - 154s 588ms/step - loss: 0.1457 - accuracy: 0.9513 - val_loss: 0.4569 - val_accuracy: 0.9133\n"
          ]
        }
      ],
      "source": [
        "# Here we will build a more complex CNN model and see if this can address the overfitting issue\n",
        "from keras.layers import Conv2D, LeakyReLU, MaxPooling2D, BatchNormalization, Flatten, Dense, Dropout\n",
        "from keras.optimizers import Adam\n",
        "\n",
        "def cnn_model_2():\n",
        "    model = Sequential()\n",
        "\n",
        "    # First Convolutional layer as per Model Architecture\n",
        "    # Let's add the first Convolutional layer with 16 filters and a kernel size of 3x3\n",
        "    # Let's set the padding as 'same' and set the input shape = (32, 32, 1)\n",
        "    # Let's add a LeakyRelu layer with  slope equal to 0.1\n",
        "    model.add(Conv2D(16, (3, 3), padding='same', input_shape=(32, 32, 1)))\n",
        "    model.add(LeakyReLU(0.1))\n",
        "\n",
        "    # Second Convolutional layer as per Model Architecture\n",
        "    # Let's add a second Convolutional layer with 32 filters and a kernel size of 3x3 with 'same' padding\n",
        "    # Let's add LeakyRelu with the slope equal to 0.1\n",
        "    model.add(Conv2D(32, (3, 3), padding='same'))\n",
        "    model.add(LeakyReLU(0.1))\n",
        "\n",
        "\n",
        "    # Let's add a max-pooling layer with a pool size of 2x2\n",
        "    model.add(MaxPooling2D(pool_size=(2, 2)))\n",
        "\n",
        "    # Let's add a BatchNormalization layer\n",
        "    model.add(BatchNormalization())\n",
        "\n",
        "    # Third Convolutional layer as per Model Architecture\n",
        "    # Let's add a third Convolutional layer with 32 filters and a kernel size of 3x3 with 'same' padding\n",
        "    # Let's add a LeakyRelu layer with the slope equal to 0.1\n",
        "    model.add(Conv2D(32, (3, 3), padding='same'))\n",
        "    model.add(LeakyReLU(0.1))\n",
        "\n",
        "    # Fourth Convolutional layer as per Model Architecture\n",
        "    # Let's add a fourth Convolutional layer with 64 filters and a kernel size of 3x3 with 'same' padding\n",
        "    # Let's add a LeakyRelu layer with the slope equal to 0.1\n",
        "    model.add(Conv2D(64, (3, 3), padding='same'))\n",
        "    model.add(LeakyReLU(0.1))\n",
        "\n",
        "\n",
        "    # Let's add a max-pooling layer with a pool size of 2x2\n",
        "    model.add(MaxPooling2D(pool_size=(2, 2)))\n",
        "\n",
        "    # Let's add a BatchNormalization layer\n",
        "    model.add(BatchNormalization())\n",
        "\n",
        "    # Let's flatten the output from the previous layer\n",
        "    model.add(Flatten())\n",
        "\n",
        "    # Dense layer as per Model Architecture\n",
        "    # Let's add a dense layer with 32 nodes\n",
        "    # Let's add a LeakyRelu layer with the slope equal to 0.1\n",
        "    model.add(Dense(32))\n",
        "    model.add(LeakyReLU(0.1))\n",
        "\n",
        "    # Let's add a dropout layer with the rate equal to 0.5\n",
        "    model.add(Dropout(0.5))\n",
        "\n",
        "    # Output layer as per Model Architecture\n",
        "    # Let's add the final output layer with nodes equal to the total number of classes, i.e., 10\n",
        "    # Let's use 'softmax' as the activation function\n",
        "    model.add(Dense(10, activation='softmax'))\n",
        "\n",
        "    # Compile the model\n",
        "    # Let's compile the model with the categorical_crossentropy loss\n",
        "    # Let's use the Adam optimizer with learning_rate = 0.001, and metric equal to 'accuracy'.\n",
        "    model.compile(loss='categorical_crossentropy',\n",
        "                  optimizer=Adam(learning_rate=0.001),\n",
        "                  metrics=['accuracy'])\n",
        "\n",
        "    return model\n",
        "\n",
        "# Builds the model\n",
        "cnn_model_2 = cnn_model_2()\n",
        "\n",
        "# Prints the model summary\n",
        "cnn_model_2.summary()\n",
        "\n",
        "# Fits the model (Assuming you have X_train, y_train as training data)\n",
        "history_cnn_model_2 = cnn_model_2.fit(X_train, y_train,\n",
        "                                      validation_split=0.2,\n",
        "                                      batch_size=128,\n",
        "                                      verbose=1,\n",
        "                                      epochs=30)\n"
      ]
    },
    {
      "cell_type": "markdown",
      "metadata": {
        "id": "PyhUtMy3KDN1"
      },
      "source": [
        "### **Plot the Training and Validation accuracies and write your observations.**"
      ]
    },
    {
      "cell_type": "code",
      "execution_count": 43,
      "metadata": {
        "id": "YVQu7uWiAjQH",
        "colab": {
          "base_uri": "https://localhost:8080/",
          "height": 696
        },
        "outputId": "6523d1f5-72f6-4b1f-e1a6-4cd10d41c54d"
      },
      "outputs": [
        {
          "output_type": "display_data",
          "data": {
            "text/plain": [
              "<Figure size 800x800 with 1 Axes>"
            ],
            "image/png": "[encoded data removed]"
          },
          "metadata": {}
        }
      ],
      "source": [
        "# Plotting the training and validation accuracies\n",
        "\n",
        "# As we did before, we extract the training history from the Keras model and store it in a dictionary.\n",
        "dict_hist = history_cnn_model_2.history\n",
        "\n",
        "# Let's create a list of all the epochs to run through\n",
        "list_ep = [i for i in range(1, 31)]\n",
        "\n",
        "# We can now create an area to plot the graph using MatPlotLib\n",
        "plt.figure(figsize = (8, 8))\n",
        "\n",
        "# Let's now plot the Accuracy in Blue\n",
        "plt.plot(list_ep, dict_hist['accuracy'], ls = '--', label = 'Accuracy')\n",
        "\n",
        "# We will now plot the second line 'Validation Accuracy' in Yellow\n",
        "plt.plot(list_ep, dict_hist['val_accuracy'], ls = '--', label = 'val_accuracy')\n",
        "\n",
        "# We will set the label for the Y-axis as 'Accuracy'\n",
        "plt.ylabel('Accuracy')\n",
        "\n",
        "# We will set the label for the X-axis as 'Epochs'\n",
        "plt.xlabel('Epochs')\n",
        "\n",
        "# Let's also set a legend for the graph\n",
        "plt.legend()\n",
        "\n",
        "# Finally let's now plot the actual graph\n",
        "plt.show()"
      ]
    },
    {
      "cell_type": "markdown",
      "metadata": {
        "id": "Qrrt0Ac3AjQH"
      },
      "source": [
        "**Observations:________**\n",
        "\n",
        "**1. Initial Training:  Epochs 1-2:**\n",
        "**Training/Validation Accuracy Lines:** Both the training and validation accuracies reach over 0.80 after the first two epochs. This indicates that the model learns quite fast and is also able to generalize quite well from the training data to the validation data.\n",
        "\n",
        "\n",
        "**2. Training Phase: Epochs 3-30:**\n",
        "\n",
        "\n",
        "**Training Accuracy - Blue Line:** The continuous and smooth increase in the training accuracy from epoch 3 and reaching almost 100% at the end of 30 epochs indicates that the model is able to fit the training data very well. Normally, the high training accuracy can be a sign of overfitting if the validation accuracy is not following the same trend.\n",
        "\n",
        "\n",
        "**Validation Accuracy - Yellow Line:** The validation accuracy seems to initially plateau but stays around the blue line up to epoch 10. However,  from epoch 10 validation accuracy stabilizes with an accuracy of 0.91. The stability in the validation accuracy around 0.91 suggests that the model is able to generalize unseen data quite well.\n",
        "\n",
        "**Observations and Considerations:**\n",
        "**Overfitting:** Since both the training accuracy and the validation accuracy are relatively close and the vaidation accuracy plateaus and does not degrade, it suggest that overfitting is not a concern here.\n",
        "\n",
        "**Plateau in Validation Accuracy:** Since validation accuracy plateaus\n",
        "around 0.91, it suggests that the model may have reached the optimal performance level with the validation dataset. It is possible that further fine tuning may be possible,by adjusting the model architecture or fine tuning the hyperparameters.\n",
        "\n",
        "\n",
        "**Potential Improvements:**\n",
        "\n",
        "**Regularization:** To reduce overfitting, one can refine the dropout layers, change the batch normalization,and test if it improves.\n",
        "\n",
        "**Learning Rate:** One could also look at adaptively adjusting the learning rate during training. This may help in convergence and stability.\n",
        "\n",
        "**Model Complexity:** One could also review whether the model is too complex for the dataset. Here one can look at reducing the number of layers or neurons to see if this reduces overfitting.\n",
        "\n",
        "\n",
        "**Summary:**\n",
        "Overall, the model is able to quickly achieve high accuracy and overfitting seems to be not significant here. Further fine tuning could perhaps improve the model performance even more. Overall, we can see that both the CNN models performed better than the ANN model. In particular, the last CNN model clearly performed better than the others. So, I would recommend that we use this model."
      ]
    },
    {
      "cell_type": "markdown",
      "metadata": {
        "id": "kja4SnOdAjQI"
      },
      "source": [
        "## **Predictions on the test data**\n",
        "\n",
        "- Make predictions on the test set using the second model.\n",
        "- Print the obtained results using the classification report and the confusion matrix.\n",
        "- Final observations on the obtained results."
      ]
    },
    {
      "cell_type": "markdown",
      "metadata": {
        "id": "eHCRwRbgKDN2"
      },
      "source": [
        "### **Make predictions on the test data using the second model.**"
      ]
    },
    {
      "cell_type": "code",
      "execution_count": 44,
      "metadata": {
        "id": "f1d-VvaLAjQI",
        "colab": {
          "base_uri": "https://localhost:8080/"
        },
        "outputId": "41b4b9de-5a1a-4177-b277-6c8d42ae818a"
      },
      "outputs": [
        {
          "output_type": "stream",
          "name": "stdout",
          "text": [
            "563/563 [==============================] - 24s 42ms/step\n"
          ]
        }
      ],
      "source": [
        "# Let's use the .predict method for the predictions\n",
        "test_pred = cnn_model_2.predict(X_test)\n",
        "\n",
        "test_pred = np.argmax(test_pred, axis = -1)"
      ]
    },
    {
      "cell_type": "markdown",
      "metadata": {
        "id": "DrV1tOG0AjQI"
      },
      "source": [
        "**Note:** Earlier, we noticed that each entry of the target variable is a one-hot encoded vector, but to print the classification report and confusion matrix, we must convert each entry of y_test to a single label."
      ]
    },
    {
      "cell_type": "code",
      "execution_count": 45,
      "metadata": {
        "id": "dUSHU9W0AjQI"
      },
      "outputs": [],
      "source": [
        "# This changes the the matrix coded by one-hot-encoding back to the original labels\n",
        "y_test = np.argmax(y_test, axis = -1)"
      ]
    },
    {
      "cell_type": "markdown",
      "metadata": {
        "id": "aVCa-ysWKDN3"
      },
      "source": [
        "### **Write your final observations on the performance of the model on the test data.**"
      ]
    },
    {
      "cell_type": "code",
      "execution_count": 46,
      "metadata": {
        "id": "sOMq2rCJAjQJ",
        "colab": {
          "base_uri": "https://localhost:8080/",
          "height": 760
        },
        "outputId": "7f949da3-8cc1-4c17-fac8-04b93d493ace"
      },
      "outputs": [
        {
          "output_type": "stream",
          "name": "stdout",
          "text": [
            "              precision    recall  f1-score   support\n",
            "\n",
            "           0       0.89      0.95      0.92      1814\n",
            "           1       0.92      0.89      0.91      1828\n",
            "           2       0.93      0.91      0.92      1803\n",
            "           3       0.91      0.88      0.90      1719\n",
            "           4       0.96      0.90      0.93      1812\n",
            "           5       0.91      0.91      0.91      1768\n",
            "           6       0.92      0.88      0.90      1832\n",
            "           7       0.92      0.94      0.93      1808\n",
            "           8       0.87      0.91      0.89      1812\n",
            "           9       0.88      0.93      0.90      1804\n",
            "\n",
            "    accuracy                           0.91     18000\n",
            "   macro avg       0.91      0.91      0.91     18000\n",
            "weighted avg       0.91      0.91      0.91     18000\n",
            "\n"
          ]
        },
        {
          "output_type": "display_data",
          "data": {
            "text/plain": [
              "<Figure size 800x500 with 2 Axes>"
            ],
            "image/png": "[encoded data removed]"
          },
          "metadata": {}
        }
      ],
      "source": [
        "# Let's print the classification report using the sklearn method\n",
        "print(classification_report(y_test, test_pred))\n",
        "\n",
        "# Let's plot the heatmap using a confusion matrix from the sklearn method\n",
        "cm = confusion_matrix(y_test, test_pred)\n",
        "\n",
        "# Let's plot the confusion matrix\n",
        "plt.figure(figsize = (8, 5))\n",
        "\n",
        "# Let's use the seaborn library to display the heatmap\n",
        "sns.heatmap(cm, annot = True,  fmt = '.0f')\n",
        "\n",
        "# Assign the 'Actual' label to the Y-axis\n",
        "plt.ylabel('Actual')\n",
        "\n",
        "# Assign the 'Predicted' label to the X-axis\n",
        "plt.xlabel('Predicted')\n",
        "\n",
        "# Plot the result.\n",
        "plt.show()"
      ]
    },
    {
      "cell_type": "markdown",
      "metadata": {
        "id": "TNN9v713AjQJ"
      },
      "source": [
        "**Final Observations:_________**\n",
        "\n",
        "**Precision, Recall, and F1-Score:**\n",
        "\n",
        "**Precision:** We can see that this model performs much better than the previous ones. It has a much high lever of accuracy, for example, Class 0 has a a precision of 89%, which means that 89% of the time when the number was identified as 0 it was actually 0. If we look at Class 4, the precision is even better, 96% of the time when the number 4 was identified, it was actually 4.\n",
        "\n",
        "\n",
        "\n",
        "**Recall:** We can also see that the recall is quite good. For example, for Class 0, 95% of the actual instances of 0 were correctly predicted. This is quite a good result.\n",
        "\n",
        "\n",
        "\n",
        "**F1-Score:** If we look at the harmonized mean of precision and accuracy with the F1-Score, it also has quite a good result. For example, Classes 4 and 7, the F1-score is 0.93, this implies a good balance between both precision and recall.\n",
        "\n",
        "\n",
        "\n",
        "**Support:** The support identifes the number of actual occurrences of each class within the specified dataset. For instance, there are 1814 instances of class 0 in the dataset.\n",
        "\n",
        "\n",
        "\n",
        "\n",
        "**Accuracy**: The overall accuracy of this model across all classes is 91%, this means that the model  correctly classified 91% of the instances which is a very good result and is much better in comparison with the other models that we have already tried.\n",
        "\n",
        "\n",
        "\n",
        "**Macro and Weighted Averages:** The average precision, recall, and F1-score calculated independently for each class and then averaged also are quite high at 0.91.\n",
        "\n",
        "\n",
        "\n",
        "**Final Observations:**\n",
        "This model architecture performs quite well and achieves high precision, recall, and F1-scores for most of the classes. This means that it is able to identify the classes quite accurately. Only in approximately 9% of the cases it has not classified correctly.\n",
        "The model is also particularly good with classes 0, 2, 4, and 7.\n",
        "It performs slightly lower with classes 8 and 9, with a lower precision.\n",
        "\n",
        "\n",
        "\n",
        "\n",
        "**Potential Improvements:**\n",
        "\n",
        "Further analysis is required as to why the model performs sub-optimally for certain classes. One could look at the dataset and check if there are any misclassified instances, or, one can also fine tune the model architecture and the hyperparameters.\n",
        "\n",
        "Another option is also to look at other approaches such as ensemble methods to see if the performance could be improved further.\n",
        "\n",
        "\n",
        "\n",
        "Overall, this CNN model, is significantly better than the previous models.\n",
        "\n",
        "The model clearly shows a higher precision, recall, and F1-scores. Although further fine tuning can perhaps improve the model,  one could consider this model over the previous ones.\n",
        "\n",
        "\n",
        "\n"
      ]
    }
  ],
  "metadata": {
    "accelerator": "TPU",
    "colab": {
      "provenance": []
    },
    "kernelspec": {
      "display_name": "Python 3",
      "name": "python3"
    },
    "language_info": {
      "codemirror_mode": {
        "name": "ipython",
        "version": 3
      },
      "file_extension": ".py",
      "mimetype": "text/x-python",
      "name": "python",
      "nbconvert_exporter": "python",
      "pygments_lexer": "ipython3",
      "version": "3.9.7"
    }
  },
  "nbformat": 4,
  "nbformat_minor": 0
}